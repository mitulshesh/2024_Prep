{
 "cells": [
  {
   "cell_type": "code",
   "execution_count": 5,
   "id": "b59441aa-dd41-4e40-a662-44e9f63c6112",
   "metadata": {},
   "outputs": [
    {
     "name": "stdout",
     "output_type": "stream",
     "text": [
      "this is a rectangle\n"
     ]
    }
   ],
   "source": [
    "shape=\"rectangle\"\n",
    "\n",
    "if(shape == \"square\"):\n",
    "    print(\"this is a sqaure\")\n",
    "elif(shape == \"rectangle\"):\n",
    "    print(\"this is a rectangle\")\n",
    "else:\n",
    "    print(\"I donot know what shape it is\")"
   ]
  },
  {
   "cell_type": "code",
   "execution_count": 7,
   "id": "bee4ffd8-f80c-4ea4-8f05-2835cc2628d5",
   "metadata": {},
   "outputs": [],
   "source": [
    "l1=[1,2,3,4,5,6,7,8]"
   ]
  },
  {
   "cell_type": "code",
   "execution_count": 9,
   "id": "265c103e-d06e-4dba-8fa0-c167e551a026",
   "metadata": {},
   "outputs": [
    {
     "data": {
      "text/plain": [
       "list"
      ]
     },
     "execution_count": 9,
     "metadata": {},
     "output_type": "execute_result"
    }
   ],
   "source": [
    "type(l1)"
   ]
  },
  {
   "cell_type": "code",
   "execution_count": 11,
   "id": "46f35002-2e96-41f4-bf63-d482f0384360",
   "metadata": {},
   "outputs": [
    {
     "name": "stdout",
     "output_type": "stream",
     "text": [
      "1\n",
      "2\n",
      "3\n",
      "4\n",
      "5\n",
      "6\n",
      "7\n",
      "8\n"
     ]
    }
   ],
   "source": [
    "for num in l1:\n",
    "    print(num)"
   ]
  },
  {
   "cell_type": "code",
   "execution_count": 13,
   "id": "afbc49c9-fdc7-4f3d-8018-adeb1dc4788b",
   "metadata": {},
   "outputs": [
    {
     "name": "stdout",
     "output_type": "stream",
     "text": [
      "odd number : 1\n",
      "2\n",
      "odd number : 3\n",
      "4\n",
      "odd number : 5\n",
      "6\n",
      "odd number : 7\n",
      "8\n"
     ]
    }
   ],
   "source": [
    "for num in l1:\n",
    "    if num % 2 == 0:\n",
    "        print(num)\n",
    "    else:\n",
    "        print(f'odd number : {num}')"
   ]
  },
  {
   "cell_type": "code",
   "execution_count": 15,
   "id": "769f7e79-e393-44cf-b697-30607d380d1e",
   "metadata": {},
   "outputs": [
    {
     "name": "stdout",
     "output_type": "stream",
     "text": [
      "(1, 2, 3)\n",
      "(4, 5, 6)\n",
      "(7, 8, 9)\n"
     ]
    }
   ],
   "source": [
    "l2 = [(1,2,3),(4,5,6),(7,8,9)]\n",
    "\n",
    "for item in l2:\n",
    "    print(item)"
   ]
  },
  {
   "cell_type": "code",
   "execution_count": 17,
   "id": "6f72f54e-78a4-4232-8629-1ef0536c5302",
   "metadata": {},
   "outputs": [
    {
     "name": "stdout",
     "output_type": "stream",
     "text": [
      "2\n",
      "5\n",
      "8\n"
     ]
    }
   ],
   "source": [
    "for a,b,c in l2:\n",
    "    print(b)\n"
   ]
  },
  {
   "cell_type": "code",
   "execution_count": 31,
   "id": "24c9c652-d27c-4148-ac9e-8d67ba16a3d5",
   "metadata": {},
   "outputs": [
    {
     "name": "stdout",
     "output_type": "stream",
     "text": [
      "6\n",
      "5\n",
      "100\n",
      "150\n",
      "90\n",
      "14\n"
     ]
    }
   ],
   "source": [
    "d1 = {'k1':6,'k2':5,'k3':100,'k4':150,'k5':90,'k6':14}\n",
    "l5=[]\n",
    "for key,value in d1.items():\n",
    "    print(value)\n",
    "    l5.append(value)\n",
    "    "
   ]
  },
  {
   "cell_type": "code",
   "execution_count": 33,
   "id": "2f4d334f-c158-4d9e-b8b6-06c0ec278b93",
   "metadata": {},
   "outputs": [
    {
     "data": {
      "text/plain": [
       "[6, 5, 100, 150, 90, 14]"
      ]
     },
     "execution_count": 33,
     "metadata": {},
     "output_type": "execute_result"
    }
   ],
   "source": [
    "l5"
   ]
  },
  {
   "cell_type": "code",
   "execution_count": 35,
   "id": "09255ffe-1d31-406b-abce-6d6e72babf16",
   "metadata": {},
   "outputs": [
    {
     "data": {
      "text/plain": [
       "[5, 6, 14, 90, 100, 150]"
      ]
     },
     "execution_count": 35,
     "metadata": {},
     "output_type": "execute_result"
    }
   ],
   "source": [
    "sorted(d1.values())"
   ]
  },
  {
   "cell_type": "code",
   "execution_count": 39,
   "id": "ba2ade79-2c10-4f50-81a4-bd9892212afc",
   "metadata": {},
   "outputs": [
    {
     "ename": "NameError",
     "evalue": "name 'reverse' is not defined",
     "output_type": "error",
     "traceback": [
      "\u001b[1;31m---------------------------------------------------------------------------\u001b[0m",
      "\u001b[1;31mNameError\u001b[0m                                 Traceback (most recent call last)",
      "Cell \u001b[1;32mIn[39], line 1\u001b[0m\n\u001b[1;32m----> 1\u001b[0m reverse(l5)\n",
      "\u001b[1;31mNameError\u001b[0m: name 'reverse' is not defined"
     ]
    }
   ],
   "source": [
    "reverse(l5)"
   ]
  },
  {
   "cell_type": "code",
   "execution_count": null,
   "id": "1f050f1c-95e0-4155-b10c-d34b48d8487a",
   "metadata": {},
   "outputs": [],
   "source": []
  },
  {
   "cell_type": "code",
   "execution_count": null,
   "id": "e3606b6c-a469-40b9-aa10-4b27c8500099",
   "metadata": {},
   "outputs": [],
   "source": []
  },
  {
   "cell_type": "code",
   "execution_count": 43,
   "id": "efea6204-0272-4952-bc7b-bb8fc97a53ad",
   "metadata": {},
   "outputs": [
    {
     "data": {
      "text/plain": [
       "[6, 5, 100, 150, 90, 14]"
      ]
     },
     "execution_count": 43,
     "metadata": {},
     "output_type": "execute_result"
    }
   ],
   "source": [
    "l5"
   ]
  },
  {
   "cell_type": "code",
   "execution_count": 45,
   "id": "d616caa8-7b15-4e00-97c8-8e6e4bb12abe",
   "metadata": {},
   "outputs": [],
   "source": [
    "l5.reverse()"
   ]
  },
  {
   "cell_type": "code",
   "execution_count": 47,
   "id": "eaa9887d-98e3-430d-a00a-b4d60e2a2904",
   "metadata": {},
   "outputs": [
    {
     "data": {
      "text/plain": [
       "[14, 90, 150, 100, 5, 6]"
      ]
     },
     "execution_count": 47,
     "metadata": {},
     "output_type": "execute_result"
    }
   ],
   "source": [
    "l5"
   ]
  },
  {
   "cell_type": "code",
   "execution_count": 51,
   "id": "b42deb75-f32b-4198-a4e9-5171aeb4721b",
   "metadata": {},
   "outputs": [
    {
     "data": {
      "text/plain": [
       "False"
      ]
     },
     "execution_count": 51,
     "metadata": {},
     "output_type": "execute_result"
    }
   ],
   "source": [
    "100 in [1,2,3]"
   ]
  },
  {
   "cell_type": "code",
   "execution_count": null,
   "id": "0ac930b4-6bc3-46dc-bd3a-8e0b7b405070",
   "metadata": {},
   "outputs": [],
   "source": []
  }
 ],
 "metadata": {
  "kernelspec": {
   "display_name": "Python 3 (ipykernel)",
   "language": "python",
   "name": "python3"
  },
  "language_info": {
   "codemirror_mode": {
    "name": "ipython",
    "version": 3
   },
   "file_extension": ".py",
   "mimetype": "text/x-python",
   "name": "python",
   "nbconvert_exporter": "python",
   "pygments_lexer": "ipython3",
   "version": "3.12.7"
  }
 },
 "nbformat": 4,
 "nbformat_minor": 5
}
