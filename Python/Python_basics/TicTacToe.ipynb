{
 "cells": [
  {
   "cell_type": "code",
   "execution_count": 1,
   "id": "a7fa5eeb-df3d-4c7a-995e-7346652aef45",
   "metadata": {},
   "outputs": [],
   "source": [
    "#STEP 1 : Display board\n",
    "from IPython.display import clear_output\n",
    "def displayBoard(board):\n",
    "    clear_output()\n",
    "    print(board[7]+\"|\"+board[8]+\"|\"+board[9])\n",
    "    print(\"-|-|-\")\n",
    "    print(board[4]+\"|\"+board[5]+\"|\"+board[6])\n",
    "    print(\"-|-|-\")\n",
    "    print(board[1]+\"|\"+board[2]+\"|\"+board[3])\n",
    "    print(\"-|-|-\")"
   ]
  },
  {
   "cell_type": "code",
   "execution_count": 2,
   "id": "8aa1e388-990c-4d81-bb8f-b7c8e5c018d3",
   "metadata": {},
   "outputs": [
    {
     "name": "stdout",
     "output_type": "stream",
     "text": [
      " | | \n",
      "-|-|-\n",
      " | | \n",
      "-|-|-\n",
      " | | \n",
      "-|-|-\n"
     ]
    }
   ],
   "source": [
    "#Test Display Board\n",
    "#Below is sample display board\n",
    "testBoardList = ['#','X','O','X','O','X','O','X','X','X']\n",
    "#displayBoard(testBoardList)\n",
    "displayBoard([' ']*10)"
   ]
  },
  {
   "cell_type": "code",
   "execution_count": 3,
   "id": "549ebf73-1489-4b8b-9550-489a264a39a9",
   "metadata": {},
   "outputs": [],
   "source": [
    "#Step 2 : Player input X or O\n",
    "def playerInput():\n",
    "    player1_marker = ''\n",
    "    while player1_marker!='X' and player1_marker!='O':\n",
    "        player1_marker = input(\"Please select between X or O\")\n",
    "    if(player1_marker == 'X'):\n",
    "        player2_marker = 'O'\n",
    "    else:\n",
    "        player2_marker = 'X'\n",
    "    return (player1_marker,player2_marker)\n",
    "    "
   ]
  },
  {
   "cell_type": "code",
   "execution_count": 4,
   "id": "391ce25d-c39f-4c59-94a4-4e4e68982e38",
   "metadata": {},
   "outputs": [],
   "source": [
    "#Step 3 : place marker\n",
    "def placeMarker(board,position,marker):\n",
    "    board[position] = marker"
   ]
  },
  {
   "cell_type": "code",
   "execution_count": 5,
   "id": "4d4f48f7-aa45-40b8-ba58-20abfd064dd6",
   "metadata": {},
   "outputs": [
    {
     "name": "stdout",
     "output_type": "stream",
     "text": [
      "X|X|X\n",
      "-|-|-\n",
      "O|X|O\n",
      "-|-|-\n",
      "X|O|X\n",
      "-|-|-\n"
     ]
    }
   ],
   "source": [
    "#Test placemarker\n",
    "placeMarker(testBoardList,8,'X')\n",
    "displayBoard(testBoardList)"
   ]
  },
  {
   "cell_type": "code",
   "execution_count": 6,
   "id": "32ff9249-d582-498d-ac35-0a880cfab501",
   "metadata": {
    "scrolled": true
   },
   "outputs": [],
   "source": [
    "#Step 4: win check\n",
    "def winCheck(board,marker):\n",
    "    return((board[7] == marker and board[8] == marker and board[9] == marker) or\n",
    "       (board[4] == marker and board[5] == marker and board[6] == marker) or\n",
    "       (board[1] == marker and board[2] == marker and board[3] == marker) or\n",
    "       (board[7] == marker and board[4] == marker and board[1] == marker) or\n",
    "       (board[8] == marker and board[5] == marker and board[2] == marker) or\n",
    "       (board[9] == marker and board[6] == marker and board[3] == marker) or\n",
    "       (board[7] == marker and board[5] == marker and board[3] == marker) or\n",
    "       (board[1] == marker and board[5] == marker and board[9] == marker))"
   ]
  },
  {
   "cell_type": "code",
   "execution_count": 7,
   "id": "f2be1a9e-880c-4b14-940e-b1c25b191f82",
   "metadata": {},
   "outputs": [
    {
     "data": {
      "text/plain": [
       "True"
      ]
     },
     "execution_count": 7,
     "metadata": {},
     "output_type": "execute_result"
    }
   ],
   "source": [
    "winCheck(testBoardList,'X')"
   ]
  },
  {
   "cell_type": "code",
   "execution_count": 8,
   "id": "9f89df4e-594a-4615-8f30-d36298ccece1",
   "metadata": {},
   "outputs": [],
   "source": [
    "#check space is empty\n",
    "def checkSpace(board,position):\n",
    "    if(board[position] == ' '):\n",
    "        return True\n",
    "    else:\n",
    "        return False"
   ]
  },
  {
   "cell_type": "code",
   "execution_count": 9,
   "id": "21d2e430-0f9c-473a-b688-6ab2692d68bd",
   "metadata": {},
   "outputs": [],
   "source": [
    "#check for board full\n",
    "def checkBoardFull(board):\n",
    "    for i in range(1,10):\n",
    "        if(board[i] == ' '):\n",
    "            return False\n",
    "    return True"
   ]
  },
  {
   "cell_type": "code",
   "execution_count": 10,
   "id": "ced616a5-642c-4ce2-9a40-e6548ba6ce97",
   "metadata": {},
   "outputs": [],
   "source": [
    "#choose randomly who starts the game:\n",
    "import random\n",
    "def chooseFirstPlayer(player1,player2,playerMarkerDict):\n",
    "    flip = random.randint(0,1)\n",
    "    playerMarkerDict = {}\n",
    "    if(flip == 0):\n",
    "        player1Marker=''\n",
    "        while(player1Marker!='X' and player1Marker!='O'):\n",
    "            player1Marker = input(player1+ \" Please select your preferred marker X or O\")\n",
    "        playerMarkerDict[player1] = player1Marker\n",
    "        if(playerMarkerDict[player1] == 'X'):\n",
    "          playerMarkerDict[player2] = 'O'\n",
    "        else:\n",
    "          playerMarkerDict[player2] = 'X'\n",
    "        return player1,playerMarkerDict\n",
    "    else:\n",
    "        player2Marker=''\n",
    "        while(player2Marker!='X' and player2Marker!='O'):\n",
    "            player2Marker = input(player2+ \" Please select your preferred marker X or O\")\n",
    "        playerMarkerDict[player2] = player2Marker\n",
    "        if(playerMarkerDict[player2] == 'X'):\n",
    "           playerMarkerDict[player1] = 'O'\n",
    "        else:\n",
    "            playerMarkerDict[player1] = 'X'\n",
    "        return player2,playerMarkerDict"
   ]
  },
  {
   "cell_type": "code",
   "execution_count": 11,
   "id": "31bd1fc6-8f7d-47f7-b738-b42493e971ff",
   "metadata": {},
   "outputs": [],
   "source": [
    "#place user input\n",
    "def placeUserInput(board,position):\n",
    "    usrInput = ''\n",
    "    while(usrInput not in range(1,9) or not checkSpace(board,position)):\n",
    "        position = int(input(\"please enter a position between 1-9\"))\n",
    "    return position"
   ]
  },
  {
   "cell_type": "code",
   "execution_count": 12,
   "id": "303f47cf-c61e-4a6b-a03e-24f58b7a0f6b",
   "metadata": {},
   "outputs": [],
   "source": [
    "#choose to replay or not\n",
    "def replay():\n",
    "    doReplay = input(\"Do you want to replay ---- Enter Yes or No\")\n",
    "    return doReplay == 'Yes'"
   ]
  },
  {
   "cell_type": "code",
   "execution_count": 13,
   "id": "55765996-1f23-4c55-8237-4189c3111ef9",
   "metadata": {},
   "outputs": [],
   "source": [
    "#Now its time for the Biggie\n",
    "\n",
    "#Display board\n",
    "def startGame(player1,player2,playerMarkerDict):\n",
    "    board = [' ']*10\n",
    "    displayBoard(board)\n",
    "    \n",
    "    #Choose who will play first\n",
    "    currentPlayer,playerMarkerDict = chooseFirstPlayer(player1,player2,playerMarkerDict)\n",
    "    print(\"Marker Allocation is \",playerMarkerDict)\n",
    "    endMatch = False\n",
    "    while(checkBoardFull(board) == False):\n",
    "        print(currentPlayer,\"Chance now...\")\n",
    "        position = int(input(\"Please enter your position\"))\n",
    "        while(checkSpace(board,position) == False):\n",
    "          position = int(input(\"Please position within range 1-9 that is free\"))  \n",
    "        placeMarker(board,position,playerMarkerDict.get(currentPlayer))\n",
    "        displayBoard(board)\n",
    "        #Check if someone has won\n",
    "        if(winCheck(board,playerMarkerDict.get(currentPlayer))):\n",
    "            print(currentPlayer,'wins')\n",
    "            endMatch = True\n",
    "            break\n",
    "        if(currentPlayer == player1):\n",
    "            currentPlayer = player2\n",
    "        else:\n",
    "            currentPlayer = player1\n",
    "\n",
    "    if(endMatch == False):\n",
    "      print(\"Match is tied\")    \n",
    "    \n",
    "    "
   ]
  },
  {
   "cell_type": "code",
   "execution_count": null,
   "id": "fbf0e12a-b67c-40ea-900a-f5894835c04a",
   "metadata": {},
   "outputs": [
    {
     "name": "stdout",
     "output_type": "stream",
     "text": [
      " | | \n",
      "-|-|-\n",
      " | | \n",
      "-|-|-\n",
      " | | \n",
      "-|-|-\n"
     ]
    },
    {
     "name": "stdin",
     "output_type": "stream",
     "text": [
      "Mitul Please select your preferred marker X or O X\n"
     ]
    },
    {
     "name": "stdout",
     "output_type": "stream",
     "text": [
      "Marker Allocation is  {'Mitul': 'X', 'Pranali': 'O'}\n",
      "Mitul Chance now...\n"
     ]
    }
   ],
   "source": [
    "p1 = input(\"Player 1 name\")\n",
    "p2 = input(\"Player 2 name\")\n",
    "startGame(p1,p2,{})"
   ]
  },
  {
   "cell_type": "code",
   "execution_count": null,
   "id": "1dfe1a69-3596-4d51-90c6-7a691a39ba1d",
   "metadata": {},
   "outputs": [],
   "source": []
  },
  {
   "cell_type": "code",
   "execution_count": null,
   "id": "edcca1ba-4a04-4160-9f8f-c4eff8ee63d7",
   "metadata": {},
   "outputs": [],
   "source": []
  }
 ],
 "metadata": {
  "kernelspec": {
   "display_name": "Python 3 (ipykernel)",
   "language": "python",
   "name": "python3"
  },
  "language_info": {
   "codemirror_mode": {
    "name": "ipython",
    "version": 3
   },
   "file_extension": ".py",
   "mimetype": "text/x-python",
   "name": "python",
   "nbconvert_exporter": "python",
   "pygments_lexer": "ipython3",
   "version": "3.12.7"
  }
 },
 "nbformat": 4,
 "nbformat_minor": 5
}
