{
 "cells": [
  {
   "cell_type": "code",
   "execution_count": 1,
   "id": "c0004248-30c9-4bbf-98ef-fce682b85694",
   "metadata": {},
   "outputs": [
    {
     "data": {
      "text/plain": [
       "9"
      ]
     },
     "execution_count": 1,
     "metadata": {},
     "output_type": "execute_result"
    }
   ],
   "source": [
    "4+5"
   ]
  },
  {
   "cell_type": "code",
   "execution_count": 1,
   "id": "e13128b3-24e7-403d-921d-921e2365230a",
   "metadata": {},
   "outputs": [
    {
     "data": {
      "text/plain": [
       "1"
      ]
     },
     "execution_count": 1,
     "metadata": {},
     "output_type": "execute_result"
    }
   ],
   "source": [
    "7 % 3"
   ]
  },
  {
   "cell_type": "code",
   "execution_count": 3,
   "id": "6fba727d-169d-41d8-aa50-4665857c77b2",
   "metadata": {},
   "outputs": [
    {
     "data": {
      "text/plain": [
       "2.3333333333333335"
      ]
     },
     "execution_count": 3,
     "metadata": {},
     "output_type": "execute_result"
    }
   ],
   "source": [
    "7/3"
   ]
  },
  {
   "cell_type": "code",
   "execution_count": 5,
   "id": "6afa55f2-b636-4103-9799-b5d59f4973bc",
   "metadata": {},
   "outputs": [
    {
     "data": {
      "text/plain": [
       "2"
      ]
     },
     "execution_count": 5,
     "metadata": {},
     "output_type": "execute_result"
    }
   ],
   "source": [
    "7//3"
   ]
  },
  {
   "cell_type": "code",
   "execution_count": 7,
   "id": "5bc69f6a-6dde-4c92-a77a-21369fdc2b81",
   "metadata": {},
   "outputs": [],
   "source": [
    "a=10"
   ]
  },
  {
   "cell_type": "code",
   "execution_count": 9,
   "id": "7b5394c1-2920-4fb7-87a8-21b524c3d118",
   "metadata": {},
   "outputs": [],
   "source": [
    "a=a+a"
   ]
  },
  {
   "cell_type": "code",
   "execution_count": 11,
   "id": "1648ddf6-a49e-4a8b-ab95-7763d18bc104",
   "metadata": {},
   "outputs": [
    {
     "data": {
      "text/plain": [
       "20"
      ]
     },
     "execution_count": 11,
     "metadata": {},
     "output_type": "execute_result"
    }
   ],
   "source": [
    "a"
   ]
  },
  {
   "cell_type": "code",
   "execution_count": 13,
   "id": "d7a213e3-451d-4910-823a-f94a288bc7df",
   "metadata": {},
   "outputs": [],
   "source": [
    "a+=50"
   ]
  },
  {
   "cell_type": "code",
   "execution_count": 15,
   "id": "314ba341-5f9f-4d8f-8543-0d9dca8ba326",
   "metadata": {},
   "outputs": [
    {
     "data": {
      "text/plain": [
       "70"
      ]
     },
     "execution_count": 15,
     "metadata": {},
     "output_type": "execute_result"
    }
   ],
   "source": [
    "a"
   ]
  },
  {
   "cell_type": "code",
   "execution_count": 19,
   "id": "be7e0e88-ea81-4453-b505-5f35798dd578",
   "metadata": {},
   "outputs": [],
   "source": [
    "a=['Mitul','Pranali']"
   ]
  },
  {
   "cell_type": "code",
   "execution_count": null,
   "id": "aef84965-f3cb-4f9c-b750-c50d771c614f",
   "metadata": {},
   "outputs": [],
   "source": []
  },
  {
   "cell_type": "code",
   "execution_count": 22,
   "id": "b9a1dac7-881b-41c9-828e-0a9fe09ff2a8",
   "metadata": {},
   "outputs": [
    {
     "data": {
      "text/plain": [
       "['Mitul', 'Pranali']"
      ]
     },
     "execution_count": 22,
     "metadata": {},
     "output_type": "execute_result"
    }
   ],
   "source": [
    "a"
   ]
  },
  {
   "cell_type": "code",
   "execution_count": 24,
   "id": "d2f24df4-7730-4050-b1f4-39caf8e65884",
   "metadata": {},
   "outputs": [
    {
     "data": {
      "text/plain": [
       "list"
      ]
     },
     "execution_count": 24,
     "metadata": {},
     "output_type": "execute_result"
    }
   ],
   "source": [
    "type(a)"
   ]
  },
  {
   "cell_type": "code",
   "execution_count": 28,
   "id": "c47907be-3a37-4bba-8140-e2be1c07d907",
   "metadata": {},
   "outputs": [
    {
     "name": "stdout",
     "output_type": "stream",
     "text": [
      "my name is \n",
      "mitul\n"
     ]
    }
   ],
   "source": [
    "print('my name is \\nmitul')"
   ]
  },
  {
   "cell_type": "code",
   "execution_count": 30,
   "id": "415d9694-1f36-4c17-be96-e59db2898b24",
   "metadata": {},
   "outputs": [
    {
     "ename": "NameError",
     "evalue": "name 'mitul' is not defined",
     "output_type": "error",
     "traceback": [
      "\u001b[1;31m---------------------------------------------------------------------------\u001b[0m",
      "\u001b[1;31mNameError\u001b[0m                                 Traceback (most recent call last)",
      "Cell \u001b[1;32mIn[30], line 1\u001b[0m\n\u001b[1;32m----> 1\u001b[0m \u001b[38;5;28mprint\u001b[39m(\u001b[38;5;241m4\u001b[39m\u001b[38;5;241m+\u001b[39mmitul)\n",
      "\u001b[1;31mNameError\u001b[0m: name 'mitul' is not defined"
     ]
    }
   ],
   "source": [
    "print(4+mitul)"
   ]
  },
  {
   "cell_type": "code",
   "execution_count": 32,
   "id": "5ddcfb54-0df9-4928-a8c1-89763939ee06",
   "metadata": {},
   "outputs": [],
   "source": [
    "mitul=9"
   ]
  },
  {
   "cell_type": "code",
   "execution_count": 34,
   "id": "71ef907e-6f43-42e4-8561-0add6e9a6ce9",
   "metadata": {},
   "outputs": [
    {
     "name": "stdout",
     "output_type": "stream",
     "text": [
      "13\n"
     ]
    }
   ],
   "source": [
    "print(4+mitul)"
   ]
  },
  {
   "cell_type": "code",
   "execution_count": 36,
   "id": "0860ea86-7f62-48d9-9f5c-6e1a62be7b34",
   "metadata": {},
   "outputs": [
    {
     "data": {
      "text/plain": [
       "13"
      ]
     },
     "execution_count": 36,
     "metadata": {},
     "output_type": "execute_result"
    }
   ],
   "source": [
    "len('battala vivek')"
   ]
  },
  {
   "cell_type": "code",
   "execution_count": 38,
   "id": "db4c1b00-d1de-4573-a79c-6789a262a376",
   "metadata": {},
   "outputs": [],
   "source": [
    "s='Hello world'"
   ]
  },
  {
   "cell_type": "code",
   "execution_count": 42,
   "id": "d8946092-5973-4e87-906c-7514c69716dd",
   "metadata": {},
   "outputs": [
    {
     "data": {
      "text/plain": [
       "' '"
      ]
     },
     "execution_count": 42,
     "metadata": {},
     "output_type": "execute_result"
    }
   ],
   "source": [
    "s[5]"
   ]
  },
  {
   "cell_type": "code",
   "execution_count": 44,
   "id": "ea0f2569-e453-4d40-a98d-d1930529dad4",
   "metadata": {},
   "outputs": [
    {
     "ename": "IndexError",
     "evalue": "string index out of range",
     "output_type": "error",
     "traceback": [
      "\u001b[1;31m---------------------------------------------------------------------------\u001b[0m",
      "\u001b[1;31mIndexError\u001b[0m                                Traceback (most recent call last)",
      "Cell \u001b[1;32mIn[44], line 1\u001b[0m\n\u001b[1;32m----> 1\u001b[0m s[\u001b[38;5;241m12\u001b[39m]\n",
      "\u001b[1;31mIndexError\u001b[0m: string index out of range"
     ]
    }
   ],
   "source": [
    "s[12]"
   ]
  },
  {
   "cell_type": "code",
   "execution_count": 46,
   "id": "bc07237b-4a84-4aae-80b7-37ae2ffff09b",
   "metadata": {},
   "outputs": [
    {
     "data": {
      "text/plain": [
       "'d'"
      ]
     },
     "execution_count": 46,
     "metadata": {},
     "output_type": "execute_result"
    }
   ],
   "source": [
    "s[-1]"
   ]
  },
  {
   "cell_type": "code",
   "execution_count": 48,
   "id": "fd988b48-a0f9-4d87-ad17-85fabef1524c",
   "metadata": {},
   "outputs": [
    {
     "data": {
      "text/plain": [
       "'Hello '"
      ]
     },
     "execution_count": 48,
     "metadata": {},
     "output_type": "execute_result"
    }
   ],
   "source": [
    "s[:6]"
   ]
  },
  {
   "cell_type": "code",
   "execution_count": 50,
   "id": "6044c95c-136e-4816-a03a-647c819b596c",
   "metadata": {},
   "outputs": [
    {
     "data": {
      "text/plain": [
       "'world'"
      ]
     },
     "execution_count": 50,
     "metadata": {},
     "output_type": "execute_result"
    }
   ],
   "source": [
    "s[6:]"
   ]
  },
  {
   "cell_type": "code",
   "execution_count": 52,
   "id": "b577527d-b586-4729-bee0-10a3b467fa03",
   "metadata": {},
   "outputs": [
    {
     "data": {
      "text/plain": [
       "'Hello world'"
      ]
     },
     "execution_count": 52,
     "metadata": {},
     "output_type": "execute_result"
    }
   ],
   "source": [
    "s"
   ]
  },
  {
   "cell_type": "code",
   "execution_count": 54,
   "id": "16e1716e-7692-4847-9aac-af9366ea71fe",
   "metadata": {},
   "outputs": [
    {
     "data": {
      "text/plain": [
       "'Hello world'"
      ]
     },
     "execution_count": 54,
     "metadata": {},
     "output_type": "execute_result"
    }
   ],
   "source": [
    "s[:]"
   ]
  },
  {
   "cell_type": "code",
   "execution_count": 58,
   "id": "62ac6130-d8eb-451a-bfc1-d9247b70d70a",
   "metadata": {},
   "outputs": [
    {
     "data": {
      "text/plain": [
       "'Hello wor'"
      ]
     },
     "execution_count": 58,
     "metadata": {},
     "output_type": "execute_result"
    }
   ],
   "source": [
    "s[:-2]"
   ]
  },
  {
   "cell_type": "code",
   "execution_count": 60,
   "id": "e75039d0-2f96-450a-ae83-ce6412e7dddd",
   "metadata": {},
   "outputs": [
    {
     "data": {
      "text/plain": [
       "'Hlowrd'"
      ]
     },
     "execution_count": 60,
     "metadata": {},
     "output_type": "execute_result"
    }
   ],
   "source": [
    "s[::2]"
   ]
  },
  {
   "cell_type": "code",
   "execution_count": 62,
   "id": "db0417c0-ee73-4f21-8c00-b6fb1659f72d",
   "metadata": {},
   "outputs": [
    {
     "data": {
      "text/plain": [
       "'dlrow olleH'"
      ]
     },
     "execution_count": 62,
     "metadata": {},
     "output_type": "execute_result"
    }
   ],
   "source": [
    "s[::-1]"
   ]
  },
  {
   "cell_type": "code",
   "execution_count": 64,
   "id": "89556c31-376e-4325-9f15-a47c70db95e9",
   "metadata": {},
   "outputs": [],
   "source": [
    "k='mitul'"
   ]
  },
  {
   "cell_type": "code",
   "execution_count": 66,
   "id": "020a5a50-7985-4702-9f4f-a3f4f4022111",
   "metadata": {},
   "outputs": [],
   "source": [
    "k=k*10"
   ]
  },
  {
   "cell_type": "code",
   "execution_count": 68,
   "id": "45faa5a1-88f3-40e5-a155-4a774444b1c1",
   "metadata": {},
   "outputs": [
    {
     "data": {
      "text/plain": [
       "'mitulmitulmitulmitulmitulmitulmitulmitulmitulmitul'"
      ]
     },
     "execution_count": 68,
     "metadata": {},
     "output_type": "execute_result"
    }
   ],
   "source": [
    "k"
   ]
  },
  {
   "cell_type": "code",
   "execution_count": 70,
   "id": "0b60be4d-8fb9-4669-88bc-7a25fa1cb914",
   "metadata": {},
   "outputs": [],
   "source": [
    "a[0] = 20"
   ]
  },
  {
   "cell_type": "code",
   "execution_count": 72,
   "id": "0b9e5829-c9aa-4fad-bda6-1a3c15a10e5a",
   "metadata": {},
   "outputs": [
    {
     "ename": "NameError",
     "evalue": "name 'l' is not defined",
     "output_type": "error",
     "traceback": [
      "\u001b[1;31m---------------------------------------------------------------------------\u001b[0m",
      "\u001b[1;31mNameError\u001b[0m                                 Traceback (most recent call last)",
      "Cell \u001b[1;32mIn[72], line 1\u001b[0m\n\u001b[1;32m----> 1\u001b[0m l[\u001b[38;5;241m0\u001b[39m]\u001b[38;5;241m=\u001b[39m\u001b[38;5;241m20\u001b[39m\n",
      "\u001b[1;31mNameError\u001b[0m: name 'l' is not defined"
     ]
    }
   ],
   "source": [
    "l[0]=20"
   ]
  },
  {
   "cell_type": "code",
   "execution_count": 74,
   "id": "573f24b2-1301-4493-91b4-6ba4d2bf6ebe",
   "metadata": {},
   "outputs": [
    {
     "ename": "TypeError",
     "evalue": "'str' object does not support item assignment",
     "output_type": "error",
     "traceback": [
      "\u001b[1;31m---------------------------------------------------------------------------\u001b[0m",
      "\u001b[1;31mTypeError\u001b[0m                                 Traceback (most recent call last)",
      "Cell \u001b[1;32mIn[74], line 1\u001b[0m\n\u001b[1;32m----> 1\u001b[0m k[\u001b[38;5;241m0\u001b[39m]\u001b[38;5;241m=\u001b[39m\u001b[38;5;241m20\u001b[39m\n",
      "\u001b[1;31mTypeError\u001b[0m: 'str' object does not support item assignment"
     ]
    }
   ],
   "source": [
    "k[0]=20"
   ]
  },
  {
   "cell_type": "code",
   "execution_count": 76,
   "id": "1e50e4a2-188b-45ba-bbe4-43b20b19ab4a",
   "metadata": {},
   "outputs": [
    {
     "data": {
      "text/plain": [
       "[20, 'Pranali']"
      ]
     },
     "execution_count": 76,
     "metadata": {},
     "output_type": "execute_result"
    }
   ],
   "source": [
    "a"
   ]
  },
  {
   "cell_type": "code",
   "execution_count": 78,
   "id": "c6560cd2-4de7-4eb6-8097-652bfdace919",
   "metadata": {},
   "outputs": [],
   "source": [
    " p='My name is Mitul Shesh'"
   ]
  },
  {
   "cell_type": "code",
   "execution_count": 80,
   "id": "a886ec69-a820-4312-a1b7-53588b17cb43",
   "metadata": {},
   "outputs": [
    {
     "data": {
      "text/plain": [
       "['My', 'name', 'is', 'Mitul', 'Shesh']"
      ]
     },
     "execution_count": 80,
     "metadata": {},
     "output_type": "execute_result"
    }
   ],
   "source": [
    "p.split()"
   ]
  },
  {
   "cell_type": "code",
   "execution_count": 82,
   "id": "b33eba7a-36a2-40ac-8581-3ab371be6d2f",
   "metadata": {},
   "outputs": [
    {
     "data": {
      "text/plain": [
       "['My name is ', ' Shesh']"
      ]
     },
     "execution_count": 82,
     "metadata": {},
     "output_type": "execute_result"
    }
   ],
   "source": [
    "p.split('Mitul')"
   ]
  },
  {
   "cell_type": "code",
   "execution_count": 84,
   "id": "e5a91257-8d2b-47fa-a2b5-b4751ff986bb",
   "metadata": {},
   "outputs": [
    {
     "data": {
      "text/plain": [
       "['My nam', ' is Mitul Sh', 'sh']"
      ]
     },
     "execution_count": 84,
     "metadata": {},
     "output_type": "execute_result"
    }
   ],
   "source": [
    "p.split('e')"
   ]
  },
  {
   "cell_type": "code",
   "execution_count": 86,
   "id": "2c0ef3b7-2b82-4b2c-9d74-feeacd8d000c",
   "metadata": {},
   "outputs": [
    {
     "data": {
      "text/plain": [
       "builtin_function_or_method"
      ]
     },
     "execution_count": 86,
     "metadata": {},
     "output_type": "execute_result"
    }
   ],
   "source": [
    "type(p.split)"
   ]
  },
  {
   "cell_type": "code",
   "execution_count": 88,
   "id": "07322262-42bf-4a53-9a34-e8807a9e0a0b",
   "metadata": {},
   "outputs": [],
   "source": [
    "z=p.split()"
   ]
  },
  {
   "cell_type": "code",
   "execution_count": 90,
   "id": "7ee90eae-4e02-4933-a9cb-0f0cec86f6e0",
   "metadata": {},
   "outputs": [
    {
     "data": {
      "text/plain": [
       "list"
      ]
     },
     "execution_count": 90,
     "metadata": {},
     "output_type": "execute_result"
    }
   ],
   "source": [
    "type(z)"
   ]
  },
  {
   "cell_type": "code",
   "execution_count": 92,
   "id": "a9fc3a9d-dbe3-4ae0-9b68-02fce1035aa3",
   "metadata": {},
   "outputs": [
    {
     "ename": "SyntaxError",
     "evalue": "invalid syntax (1653983688.py, line 1)",
     "output_type": "error",
     "traceback": [
      "\u001b[1;36m  Cell \u001b[1;32mIn[92], line 1\u001b[1;36m\u001b[0m\n\u001b[1;33m    tuple k\u001b[0m\n\u001b[1;37m          ^\u001b[0m\n\u001b[1;31mSyntaxError\u001b[0m\u001b[1;31m:\u001b[0m invalid syntax\n"
     ]
    }
   ],
   "source": [
    "tuple k"
   ]
  },
  {
   "cell_type": "code",
   "execution_count": 94,
   "id": "3f473f04-928f-45c6-91b7-302ae2dea30f",
   "metadata": {},
   "outputs": [],
   "source": [
    "s='MitulPranali'"
   ]
  },
  {
   "cell_type": "code",
   "execution_count": 96,
   "id": "11131757-9d62-4570-a511-2e22670031bb",
   "metadata": {},
   "outputs": [],
   "source": [
    "s=s.upper()"
   ]
  },
  {
   "cell_type": "code",
   "execution_count": 98,
   "id": "6ea50d51-2947-487b-97ef-e6aa4c71dfb2",
   "metadata": {},
   "outputs": [
    {
     "data": {
      "text/plain": [
       "'MITULPRANALI'"
      ]
     },
     "execution_count": 98,
     "metadata": {},
     "output_type": "execute_result"
    }
   ],
   "source": [
    "s"
   ]
  },
  {
   "cell_type": "code",
   "execution_count": 100,
   "id": "dbe90b15-befe-480a-9dc9-6391512ce9b6",
   "metadata": {},
   "outputs": [
    {
     "data": {
      "text/plain": [
       "'mitulpranali'"
      ]
     },
     "execution_count": 100,
     "metadata": {},
     "output_type": "execute_result"
    }
   ],
   "source": [
    "s.lower()"
   ]
  },
  {
   "cell_type": "code",
   "execution_count": 106,
   "id": "0966338d-8865-49ab-83ea-d5b611c857b6",
   "metadata": {},
   "outputs": [
    {
     "name": "stdout",
     "output_type": "stream",
     "text": [
      "Our name is MITULPRANALI\n"
     ]
    }
   ],
   "source": [
    "print('Our name is {}'. format(s))"
   ]
  },
  {
   "cell_type": "code",
   "execution_count": 116,
   "id": "73e2fe51-384d-44a8-9c88-92cc0e14daaa",
   "metadata": {},
   "outputs": [
    {
     "ename": "IndexError",
     "evalue": "Replacement index 0 out of range for positional args tuple",
     "output_type": "error",
     "traceback": [
      "\u001b[1;31m---------------------------------------------------------------------------\u001b[0m",
      "\u001b[1;31mIndexError\u001b[0m                                Traceback (most recent call last)",
      "Cell \u001b[1;32mIn[116], line 1\u001b[0m\n\u001b[1;32m----> 1\u001b[0m \u001b[38;5;124m'\u001b[39m\u001b[38;5;124mI love my \u001b[39m\u001b[38;5;132;01m{}\u001b[39;00m\u001b[38;5;124m and \u001b[39m\u001b[38;5;132;01m{}\u001b[39;00m\u001b[38;5;124m too much\u001b[39m\u001b[38;5;124m'\u001b[39m\u001b[38;5;241m.\u001b[39mformat(a\u001b[38;5;241m=\u001b[39m\u001b[38;5;124m'\u001b[39m\u001b[38;5;124mbattala\u001b[39m\u001b[38;5;124m'\u001b[39m,b\u001b[38;5;241m=\u001b[39m\u001b[38;5;124m'\u001b[39m\u001b[38;5;124mVivek\u001b[39m\u001b[38;5;124m'\u001b[39m)\n",
      "\u001b[1;31mIndexError\u001b[0m: Replacement index 0 out of range for positional args tuple"
     ]
    }
   ],
   "source": [
    "'I love my {} and {} too much'.format(a='battala',b='Vivek')"
   ]
  },
  {
   "cell_type": "code",
   "execution_count": 118,
   "id": "9641cedb-f8a5-40a0-bd6c-943c370b521f",
   "metadata": {},
   "outputs": [],
   "source": [
    "s = 'zombie'"
   ]
  },
  {
   "cell_type": "code",
   "execution_count": 120,
   "id": "07baa3b8-79b9-417b-b88e-cab0c6d49048",
   "metadata": {},
   "outputs": [
    {
     "data": {
      "text/plain": [
       "'my name is {s}'"
      ]
     },
     "execution_count": 120,
     "metadata": {},
     "output_type": "execute_result"
    }
   ],
   "source": [
    "'my name is {s}'"
   ]
  },
  {
   "cell_type": "code",
   "execution_count": 124,
   "id": "420bb940-f1ce-4c85-a566-794666ac6d45",
   "metadata": {},
   "outputs": [
    {
     "name": "stdout",
     "output_type": "stream",
     "text": [
      "my name is zombie\n"
     ]
    }
   ],
   "source": [
    "print(f\"my name is {s}\")"
   ]
  },
  {
   "cell_type": "code",
   "execution_count": 126,
   "id": "c528ea87-ea31-4b2d-bc26-c5eb19dd2f85",
   "metadata": {},
   "outputs": [],
   "source": [
    "s=['k','bn','cd']"
   ]
  },
  {
   "cell_type": "code",
   "execution_count": 128,
   "id": "11dda056-326d-4b09-888e-3c39779c870c",
   "metadata": {},
   "outputs": [
    {
     "data": {
      "text/plain": [
       "list"
      ]
     },
     "execution_count": 128,
     "metadata": {},
     "output_type": "execute_result"
    }
   ],
   "source": [
    "type(s)"
   ]
  },
  {
   "cell_type": "code",
   "execution_count": 130,
   "id": "949da232-1c20-4543-9aa8-63b66dc680a3",
   "metadata": {},
   "outputs": [],
   "source": [
    "s.reverse()"
   ]
  },
  {
   "cell_type": "code",
   "execution_count": 132,
   "id": "50e0699d-4b92-468b-868b-8c4d4e999916",
   "metadata": {},
   "outputs": [
    {
     "data": {
      "text/plain": [
       "['cd', 'bn', 'k']"
      ]
     },
     "execution_count": 132,
     "metadata": {},
     "output_type": "execute_result"
    }
   ],
   "source": [
    "s"
   ]
  },
  {
   "cell_type": "code",
   "execution_count": 134,
   "id": "f5cea2a2-956b-4138-9d70-33d6cdf8a7fe",
   "metadata": {},
   "outputs": [],
   "source": [
    "s.sort()"
   ]
  },
  {
   "cell_type": "code",
   "execution_count": 136,
   "id": "8aff8f2c-a5dd-47e3-83cb-d46021c509e8",
   "metadata": {},
   "outputs": [
    {
     "data": {
      "text/plain": [
       "['bn', 'cd', 'k']"
      ]
     },
     "execution_count": 136,
     "metadata": {},
     "output_type": "execute_result"
    }
   ],
   "source": [
    "s"
   ]
  },
  {
   "cell_type": "code",
   "execution_count": 138,
   "id": "5152a188-047b-4f6a-90ed-d226091509c3",
   "metadata": {},
   "outputs": [],
   "source": [
    "s.append(100)"
   ]
  },
  {
   "cell_type": "code",
   "execution_count": 140,
   "id": "616fa149-d880-46be-87f5-cb910dccb17b",
   "metadata": {},
   "outputs": [
    {
     "data": {
      "text/plain": [
       "['bn', 'cd', 'k', 100]"
      ]
     },
     "execution_count": 140,
     "metadata": {},
     "output_type": "execute_result"
    }
   ],
   "source": [
    "s"
   ]
  },
  {
   "cell_type": "code",
   "execution_count": 142,
   "id": "fa7f0a17-e696-454f-9f7a-41f5d4d7906b",
   "metadata": {},
   "outputs": [
    {
     "ename": "TypeError",
     "evalue": "'<' not supported between instances of 'int' and 'str'",
     "output_type": "error",
     "traceback": [
      "\u001b[1;31m---------------------------------------------------------------------------\u001b[0m",
      "\u001b[1;31mTypeError\u001b[0m                                 Traceback (most recent call last)",
      "Cell \u001b[1;32mIn[142], line 1\u001b[0m\n\u001b[1;32m----> 1\u001b[0m s\u001b[38;5;241m.\u001b[39msort()\n",
      "\u001b[1;31mTypeError\u001b[0m: '<' not supported between instances of 'int' and 'str'"
     ]
    }
   ],
   "source": [
    "s.sort()"
   ]
  },
  {
   "cell_type": "code",
   "execution_count": 144,
   "id": "89670b4f-2068-43f3-8db4-675257fed1e0",
   "metadata": {},
   "outputs": [],
   "source": [
    "list1=[1,2,3]"
   ]
  },
  {
   "cell_type": "code",
   "execution_count": 146,
   "id": "99bbba79-06c8-4e8d-8f5c-1c5aebe3b7d2",
   "metadata": {},
   "outputs": [],
   "source": [
    "list2=[4,5,6]"
   ]
  },
  {
   "cell_type": "code",
   "execution_count": 148,
   "id": "6a68811e-a1ea-4003-b2c4-be65907e850e",
   "metadata": {},
   "outputs": [],
   "source": [
    "matrix=[list1,list2]"
   ]
  },
  {
   "cell_type": "code",
   "execution_count": 150,
   "id": "318c7ada-7a53-4ab4-bb84-c59b40048c4b",
   "metadata": {},
   "outputs": [
    {
     "data": {
      "text/plain": [
       "[[1, 2, 3], [4, 5, 6]]"
      ]
     },
     "execution_count": 150,
     "metadata": {},
     "output_type": "execute_result"
    }
   ],
   "source": [
    "matrix"
   ]
  },
  {
   "cell_type": "code",
   "execution_count": 152,
   "id": "cff92593-68e6-4ab6-8d15-c629c972d727",
   "metadata": {},
   "outputs": [
    {
     "data": {
      "text/plain": [
       "[1, 2, 3]"
      ]
     },
     "execution_count": 152,
     "metadata": {},
     "output_type": "execute_result"
    }
   ],
   "source": [
    "matrix[0]"
   ]
  },
  {
   "cell_type": "code",
   "execution_count": 154,
   "id": "d412c2e0-dafe-47d3-a967-8026cbbfcc40",
   "metadata": {},
   "outputs": [
    {
     "data": {
      "text/plain": [
       "3"
      ]
     },
     "execution_count": 154,
     "metadata": {},
     "output_type": "execute_result"
    }
   ],
   "source": [
    "matrix[0][2]"
   ]
  },
  {
   "cell_type": "code",
   "execution_count": 156,
   "id": "d3571252-630c-41f4-ba5c-8ac10783bc78",
   "metadata": {},
   "outputs": [],
   "source": [
    "s='Prisha'"
   ]
  },
  {
   "cell_type": "code",
   "execution_count": 158,
   "id": "1fd8dc5a-da9c-4720-84f6-9ff453d6f790",
   "metadata": {},
   "outputs": [
    {
     "data": {
      "text/plain": [
       "'PRISHA'"
      ]
     },
     "execution_count": 158,
     "metadata": {},
     "output_type": "execute_result"
    }
   ],
   "source": [
    "s.upper()"
   ]
  },
  {
   "cell_type": "code",
   "execution_count": 160,
   "id": "1476d1ee-37dd-4613-a5d1-b0d1a80ec5db",
   "metadata": {},
   "outputs": [
    {
     "data": {
      "text/plain": [
       "'Prisha'"
      ]
     },
     "execution_count": 160,
     "metadata": {},
     "output_type": "execute_result"
    }
   ],
   "source": [
    "s"
   ]
  },
  {
   "cell_type": "code",
   "execution_count": 162,
   "id": "139a1eb1-c40c-4620-b397-35ccb3180f6d",
   "metadata": {},
   "outputs": [
    {
     "ename": "AttributeError",
     "evalue": "'str' object has no attribute 'reverse'",
     "output_type": "error",
     "traceback": [
      "\u001b[1;31m---------------------------------------------------------------------------\u001b[0m",
      "\u001b[1;31mAttributeError\u001b[0m                            Traceback (most recent call last)",
      "Cell \u001b[1;32mIn[162], line 1\u001b[0m\n\u001b[1;32m----> 1\u001b[0m s\u001b[38;5;241m.\u001b[39mreverse()\n",
      "\u001b[1;31mAttributeError\u001b[0m: 'str' object has no attribute 'reverse'"
     ]
    }
   ],
   "source": [
    "s.reverse()"
   ]
  },
  {
   "cell_type": "code",
   "execution_count": 164,
   "id": "0f026ee6-e6c6-4f48-a8d7-37becf66e51a",
   "metadata": {},
   "outputs": [],
   "source": [
    "myDict = {\"papa\":\"mitul\",\"mumma\":\"pranali\",\"babu\":\"prisha\"}"
   ]
  },
  {
   "cell_type": "code",
   "execution_count": 166,
   "id": "6ca78f0e-6342-4140-9461-07b00bb3f007",
   "metadata": {},
   "outputs": [
    {
     "data": {
      "text/plain": [
       "{'papa': 'mitul', 'mumma': 'pranali', 'babu': 'prisha'}"
      ]
     },
     "execution_count": 166,
     "metadata": {},
     "output_type": "execute_result"
    }
   ],
   "source": [
    "myDict"
   ]
  },
  {
   "cell_type": "code",
   "execution_count": 172,
   "id": "4fa8608b-4b1e-4e83-b2a7-14a27c7f970d",
   "metadata": {},
   "outputs": [
    {
     "data": {
      "text/plain": [
       "'prisha'"
      ]
     },
     "execution_count": 172,
     "metadata": {},
     "output_type": "execute_result"
    }
   ],
   "source": [
    "myDict['babu']"
   ]
  },
  {
   "cell_type": "code",
   "execution_count": 174,
   "id": "2e68ba1e-c8ea-46f3-98be-e6771fff66f5",
   "metadata": {},
   "outputs": [],
   "source": [
    "myDict['shoe']='power'"
   ]
  },
  {
   "cell_type": "code",
   "execution_count": 176,
   "id": "0acdd20a-92bc-4cea-89f6-bfccd10f0701",
   "metadata": {},
   "outputs": [
    {
     "data": {
      "text/plain": [
       "{'papa': 'mitul', 'mumma': 'pranali', 'babu': 'prisha', 'shoe': 'power'}"
      ]
     },
     "execution_count": 176,
     "metadata": {},
     "output_type": "execute_result"
    }
   ],
   "source": [
    "myDict"
   ]
  },
  {
   "cell_type": "code",
   "execution_count": 178,
   "id": "29b4a9c1-6f5a-4c89-ad57-be27a37afe25",
   "metadata": {},
   "outputs": [
    {
     "data": {
      "text/plain": [
       "dict_keys(['papa', 'mumma', 'babu', 'shoe'])"
      ]
     },
     "execution_count": 178,
     "metadata": {},
     "output_type": "execute_result"
    }
   ],
   "source": [
    "myDict.keys()"
   ]
  },
  {
   "cell_type": "code",
   "execution_count": 180,
   "id": "3beb11eb-2434-44b5-927c-47bf603cf99c",
   "metadata": {},
   "outputs": [
    {
     "data": {
      "text/plain": [
       "dict_values(['mitul', 'pranali', 'prisha', 'power'])"
      ]
     },
     "execution_count": 180,
     "metadata": {},
     "output_type": "execute_result"
    }
   ],
   "source": [
    "myDict.values()"
   ]
  },
  {
   "cell_type": "code",
   "execution_count": 182,
   "id": "ec3ffd2c-b527-4f20-aa5b-a19a4246b953",
   "metadata": {},
   "outputs": [
    {
     "data": {
      "text/plain": [
       "dict_items([('papa', 'mitul'), ('mumma', 'pranali'), ('babu', 'prisha'), ('shoe', 'power')])"
      ]
     },
     "execution_count": 182,
     "metadata": {},
     "output_type": "execute_result"
    }
   ],
   "source": [
    "myDict.items()"
   ]
  },
  {
   "cell_type": "code",
   "execution_count": 184,
   "id": "9210e6c7-6c9c-4780-b629-8f1a6827ad10",
   "metadata": {},
   "outputs": [],
   "source": [
    "myDict['nestedWala'] = {'type1':'analog','type2':'digital'}"
   ]
  },
  {
   "cell_type": "code",
   "execution_count": 186,
   "id": "53a66196-cef0-4203-aafb-bf7c6f8dd108",
   "metadata": {},
   "outputs": [
    {
     "data": {
      "text/plain": [
       "{'papa': 'mitul',\n",
       " 'mumma': 'pranali',\n",
       " 'babu': 'prisha',\n",
       " 'shoe': 'power',\n",
       " 'nestedWala': {'type1': 'analog', 'type2': 'digital'}}"
      ]
     },
     "execution_count": 186,
     "metadata": {},
     "output_type": "execute_result"
    }
   ],
   "source": [
    "myDict"
   ]
  },
  {
   "cell_type": "code",
   "execution_count": 188,
   "id": "06c7b8fe-e89e-4883-9424-809f3182fe28",
   "metadata": {},
   "outputs": [
    {
     "data": {
      "text/plain": [
       "dict_values(['mitul', 'pranali', 'prisha', 'power', {'type1': 'analog', 'type2': 'digital'}])"
      ]
     },
     "execution_count": 188,
     "metadata": {},
     "output_type": "execute_result"
    }
   ],
   "source": [
    "myDict.values()"
   ]
  },
  {
   "cell_type": "code",
   "execution_count": 192,
   "id": "22219eb5-cd12-46aa-a052-fe77b982d21e",
   "metadata": {},
   "outputs": [
    {
     "data": {
      "text/plain": [
       "'digital'"
      ]
     },
     "execution_count": 192,
     "metadata": {},
     "output_type": "execute_result"
    }
   ],
   "source": [
    "myDict['nestedWala']['type2']"
   ]
  },
  {
   "cell_type": "code",
   "execution_count": 194,
   "id": "4576cbad-913a-4f5d-ad05-b64b5dd4a04e",
   "metadata": {},
   "outputs": [
    {
     "data": {
      "text/plain": [
       "'Prisha'"
      ]
     },
     "execution_count": 194,
     "metadata": {},
     "output_type": "execute_result"
    }
   ],
   "source": [
    "s"
   ]
  },
  {
   "cell_type": "code",
   "execution_count": 196,
   "id": "49a64bfd-eec8-4590-b630-b8c7b5575a4b",
   "metadata": {},
   "outputs": [],
   "source": [
    "s=['abc','def','ghi']"
   ]
  },
  {
   "cell_type": "code",
   "execution_count": 198,
   "id": "3cab59e2-7e8f-455e-aeeb-fc1799a2a16e",
   "metadata": {},
   "outputs": [
    {
     "data": {
      "text/plain": [
       "['abc', 'def', 'ghi']"
      ]
     },
     "execution_count": 198,
     "metadata": {},
     "output_type": "execute_result"
    }
   ],
   "source": [
    "s"
   ]
  },
  {
   "cell_type": "code",
   "execution_count": 200,
   "id": "04122b92-1b34-403e-9f6e-bb2db332b0a0",
   "metadata": {},
   "outputs": [
    {
     "data": {
      "text/plain": [
       "1"
      ]
     },
     "execution_count": 200,
     "metadata": {},
     "output_type": "execute_result"
    }
   ],
   "source": [
    "s.index(\"def\")"
   ]
  },
  {
   "cell_type": "code",
   "execution_count": 202,
   "id": "27a0cf40-de84-4c31-bcb1-427b00e66204",
   "metadata": {},
   "outputs": [
    {
     "data": {
      "text/plain": [
       "2"
      ]
     },
     "execution_count": 202,
     "metadata": {},
     "output_type": "execute_result"
    }
   ],
   "source": [
    "s.index('ghi')"
   ]
  },
  {
   "cell_type": "code",
   "execution_count": 204,
   "id": "7797f4b0-1566-4954-99aa-819d26d16713",
   "metadata": {},
   "outputs": [],
   "source": [
    "s='Prisha'"
   ]
  },
  {
   "cell_type": "code",
   "execution_count": 206,
   "id": "b11bb0bb-b8c4-4edd-a1ee-5af55f901f05",
   "metadata": {},
   "outputs": [
    {
     "data": {
      "text/plain": [
       "2"
      ]
     },
     "execution_count": 206,
     "metadata": {},
     "output_type": "execute_result"
    }
   ],
   "source": [
    "s.index('i')"
   ]
  },
  {
   "cell_type": "code",
   "execution_count": 208,
   "id": "20dea8ad-ac46-4838-900e-51ede4768807",
   "metadata": {},
   "outputs": [
    {
     "data": {
      "text/plain": [
       "1"
      ]
     },
     "execution_count": 208,
     "metadata": {},
     "output_type": "execute_result"
    }
   ],
   "source": [
    "s.count('s')"
   ]
  },
  {
   "cell_type": "code",
   "execution_count": 210,
   "id": "6cfe4068-6a55-46e8-8599-b823391c9bea",
   "metadata": {},
   "outputs": [],
   "source": [
    "s='Prishas'"
   ]
  },
  {
   "cell_type": "code",
   "execution_count": 212,
   "id": "8b8af4f6-55a2-4771-98a2-9f63682b97ff",
   "metadata": {},
   "outputs": [
    {
     "data": {
      "text/plain": [
       "2"
      ]
     },
     "execution_count": 212,
     "metadata": {},
     "output_type": "execute_result"
    }
   ],
   "source": [
    "s.count('s')"
   ]
  },
  {
   "cell_type": "code",
   "execution_count": 214,
   "id": "70ba0f6e-362e-49cb-ab07-ee4c0d77779d",
   "metadata": {},
   "outputs": [],
   "source": [
    "s='Mitul'"
   ]
  },
  {
   "cell_type": "code",
   "execution_count": 216,
   "id": "5b89dd24-0dac-4301-8571-1e494d252a4b",
   "metadata": {},
   "outputs": [
    {
     "ename": "AttributeError",
     "evalue": "'str' object has no attribute 'append'",
     "output_type": "error",
     "traceback": [
      "\u001b[1;31m---------------------------------------------------------------------------\u001b[0m",
      "\u001b[1;31mAttributeError\u001b[0m                            Traceback (most recent call last)",
      "Cell \u001b[1;32mIn[216], line 1\u001b[0m\n\u001b[1;32m----> 1\u001b[0m s\u001b[38;5;241m.\u001b[39mappend(\u001b[38;5;124m'\u001b[39m\u001b[38;5;124mShesh\u001b[39m\u001b[38;5;124m'\u001b[39m)\n",
      "\u001b[1;31mAttributeError\u001b[0m: 'str' object has no attribute 'append'"
     ]
    }
   ],
   "source": [
    "s.append('Shesh')"
   ]
  },
  {
   "cell_type": "code",
   "execution_count": 220,
   "id": "a57ea887-3866-4257-be01-c05792add755",
   "metadata": {},
   "outputs": [],
   "source": [
    "s=['abc','def','ghi']"
   ]
  },
  {
   "cell_type": "code",
   "execution_count": 224,
   "id": "8c6cb207-8e51-4af9-af73-7e01eff3731f",
   "metadata": {},
   "outputs": [
    {
     "data": {
      "text/plain": [
       "1"
      ]
     },
     "execution_count": 224,
     "metadata": {},
     "output_type": "execute_result"
    }
   ],
   "source": [
    "s.count('abc')"
   ]
  },
  {
   "cell_type": "code",
   "execution_count": 226,
   "id": "14bc760c-ebda-404a-9abe-4214f0b04440",
   "metadata": {},
   "outputs": [
    {
     "data": {
      "text/plain": [
       "['abc', 'def', 'ghi']"
      ]
     },
     "execution_count": 226,
     "metadata": {},
     "output_type": "execute_result"
    }
   ],
   "source": [
    "s"
   ]
  },
  {
   "cell_type": "code",
   "execution_count": 230,
   "id": "be42d091-5f5b-4a36-b6e9-9c01c9e4fa86",
   "metadata": {},
   "outputs": [],
   "source": [
    "s.append(\"xyz\")"
   ]
  },
  {
   "cell_type": "code",
   "execution_count": null,
   "id": "e67d2d2c-2864-4411-954c-945582cadc5f",
   "metadata": {},
   "outputs": [],
   "source": []
  },
  {
   "cell_type": "code",
   "execution_count": 233,
   "id": "aa622adc-1537-45ed-94d2-2a850d328c49",
   "metadata": {},
   "outputs": [
    {
     "data": {
      "text/plain": [
       "['abc', 'def', 'ghi', 'xyz']"
      ]
     },
     "execution_count": 233,
     "metadata": {},
     "output_type": "execute_result"
    }
   ],
   "source": [
    "s"
   ]
  },
  {
   "cell_type": "code",
   "execution_count": 235,
   "id": "4ff92cf7-6a0b-48fb-84f1-9188d4bc9f8d",
   "metadata": {},
   "outputs": [],
   "source": [
    "x=set()"
   ]
  },
  {
   "cell_type": "code",
   "execution_count": 237,
   "id": "23b394b1-0926-478b-9dba-8571cf8e68a8",
   "metadata": {},
   "outputs": [
    {
     "ename": "AttributeError",
     "evalue": "'list' object has no attribute 'add'",
     "output_type": "error",
     "traceback": [
      "\u001b[1;31m---------------------------------------------------------------------------\u001b[0m",
      "\u001b[1;31mAttributeError\u001b[0m                            Traceback (most recent call last)",
      "Cell \u001b[1;32mIn[237], line 1\u001b[0m\n\u001b[1;32m----> 1\u001b[0m a\u001b[38;5;241m.\u001b[39madd(\u001b[38;5;241m1\u001b[39m)\n",
      "\u001b[1;31mAttributeError\u001b[0m: 'list' object has no attribute 'add'"
     ]
    }
   ],
   "source": [
    "a.add(1)"
   ]
  },
  {
   "cell_type": "code",
   "execution_count": 239,
   "id": "e75d992b-5145-4e36-9d8f-efabcdb26fdb",
   "metadata": {},
   "outputs": [],
   "source": [
    "x.add(1)"
   ]
  },
  {
   "cell_type": "code",
   "execution_count": 241,
   "id": "db533a65-d9d7-4f25-bd0d-a87eac0fb4a4",
   "metadata": {},
   "outputs": [],
   "source": [
    "x.add(2)"
   ]
  },
  {
   "cell_type": "code",
   "execution_count": 243,
   "id": "06af1f5d-6c85-4d86-a4f5-f8be668339cc",
   "metadata": {},
   "outputs": [],
   "source": [
    "x.add(1)"
   ]
  },
  {
   "cell_type": "code",
   "execution_count": 245,
   "id": "4de988af-2ad0-46ba-817a-1c03e85f8226",
   "metadata": {},
   "outputs": [
    {
     "data": {
      "text/plain": [
       "{1, 2}"
      ]
     },
     "execution_count": 245,
     "metadata": {},
     "output_type": "execute_result"
    }
   ],
   "source": [
    "x"
   ]
  },
  {
   "cell_type": "code",
   "execution_count": 247,
   "id": "e82c784b-1325-43da-bbb3-d9af4f10c5b3",
   "metadata": {},
   "outputs": [
    {
     "data": {
      "text/plain": [
       "list"
      ]
     },
     "execution_count": 247,
     "metadata": {},
     "output_type": "execute_result"
    }
   ],
   "source": [
    "type(s)"
   ]
  },
  {
   "cell_type": "code",
   "execution_count": 249,
   "id": "4703711d-23a7-4167-87f5-f3bf5d9e6680",
   "metadata": {},
   "outputs": [
    {
     "data": {
      "text/plain": [
       "('abc', 'def', 'ghi', 'xyz')"
      ]
     },
     "execution_count": 249,
     "metadata": {},
     "output_type": "execute_result"
    }
   ],
   "source": [
    "tuple(s)"
   ]
  },
  {
   "cell_type": "code",
   "execution_count": 251,
   "id": "e2df359d-3e2e-433b-954e-d1b7400ae1e5",
   "metadata": {},
   "outputs": [
    {
     "data": {
      "text/plain": [
       "{'abc', 'def', 'ghi', 'xyz'}"
      ]
     },
     "execution_count": 251,
     "metadata": {},
     "output_type": "execute_result"
    }
   ],
   "source": [
    "set(s)"
   ]
  },
  {
   "cell_type": "code",
   "execution_count": 253,
   "id": "c1088174-4cf6-47bb-a429-c3225ff44fd5",
   "metadata": {},
   "outputs": [],
   "source": [
    "s.append('xyz')"
   ]
  },
  {
   "cell_type": "code",
   "execution_count": 255,
   "id": "acb912fe-df0d-427a-8941-fa98376eb3b1",
   "metadata": {},
   "outputs": [
    {
     "data": {
      "text/plain": [
       "['abc', 'def', 'ghi', 'xyz', 'xyz']"
      ]
     },
     "execution_count": 255,
     "metadata": {},
     "output_type": "execute_result"
    }
   ],
   "source": [
    "s"
   ]
  },
  {
   "cell_type": "code",
   "execution_count": 257,
   "id": "84886097-aa16-462a-8e5e-172ecbeba291",
   "metadata": {},
   "outputs": [
    {
     "data": {
      "text/plain": [
       "{'abc', 'def', 'ghi', 'xyz'}"
      ]
     },
     "execution_count": 257,
     "metadata": {},
     "output_type": "execute_result"
    }
   ],
   "source": [
    "set(s)"
   ]
  },
  {
   "cell_type": "code",
   "execution_count": 259,
   "id": "4d30058d-4500-4e6a-9a13-ab11fb390ff5",
   "metadata": {},
   "outputs": [
    {
     "data": {
      "text/plain": [
       "True"
      ]
     },
     "execution_count": 259,
     "metadata": {},
     "output_type": "execute_result"
    }
   ],
   "source": [
    "True"
   ]
  },
  {
   "cell_type": "code",
   "execution_count": 261,
   "id": "9f8f02c4-002d-4329-a23a-b5aeac307ac8",
   "metadata": {},
   "outputs": [
    {
     "ename": "NameError",
     "evalue": "name 'true' is not defined",
     "output_type": "error",
     "traceback": [
      "\u001b[1;31m---------------------------------------------------------------------------\u001b[0m",
      "\u001b[1;31mNameError\u001b[0m                                 Traceback (most recent call last)",
      "Cell \u001b[1;32mIn[261], line 1\u001b[0m\n\u001b[1;32m----> 1\u001b[0m true\n",
      "\u001b[1;31mNameError\u001b[0m: name 'true' is not defined"
     ]
    }
   ],
   "source": [
    "true"
   ]
  },
  {
   "cell_type": "code",
   "execution_count": 263,
   "id": "017d914d-4b11-43f6-983b-bf8ef10528e2",
   "metadata": {},
   "outputs": [],
   "source": [
    "x=None"
   ]
  },
  {
   "cell_type": "code",
   "execution_count": 265,
   "id": "e4c21a79-a48f-4cd4-b09d-69e3c80e9d8b",
   "metadata": {},
   "outputs": [],
   "source": [
    "x"
   ]
  },
  {
   "cell_type": "code",
   "execution_count": 267,
   "id": "a5ffc2c2-a6ba-4ae2-b0bc-1d153fa5d5f7",
   "metadata": {},
   "outputs": [],
   "source": [
    "X=False"
   ]
  },
  {
   "cell_type": "code",
   "execution_count": 269,
   "id": "dbe029d9-3aab-43d2-909a-4df563d23269",
   "metadata": {},
   "outputs": [],
   "source": [
    "x"
   ]
  },
  {
   "cell_type": "code",
   "execution_count": 271,
   "id": "e8d5ee0a-e36f-437a-a1bc-3ae279652966",
   "metadata": {},
   "outputs": [
    {
     "data": {
      "text/plain": [
       "False"
      ]
     },
     "execution_count": 271,
     "metadata": {},
     "output_type": "execute_result"
    }
   ],
   "source": [
    "X"
   ]
  },
  {
   "cell_type": "code",
   "execution_count": 273,
   "id": "b9e0b133-2471-4af3-8693-b66ad37c004e",
   "metadata": {},
   "outputs": [],
   "source": [
    "x=list()"
   ]
  },
  {
   "cell_type": "code",
   "execution_count": 275,
   "id": "e571ccb9-cb0e-4f22-aace-1221ac8498d1",
   "metadata": {},
   "outputs": [
    {
     "data": {
      "text/plain": [
       "[]"
      ]
     },
     "execution_count": 275,
     "metadata": {},
     "output_type": "execute_result"
    }
   ],
   "source": [
    "x"
   ]
  },
  {
   "cell_type": "code",
   "execution_count": 277,
   "id": "fbc6dc01-7d87-4fe7-ae2a-560b7a9ed1bf",
   "metadata": {},
   "outputs": [],
   "source": [
    "y=tuple()"
   ]
  },
  {
   "cell_type": "code",
   "execution_count": 279,
   "id": "3402f17a-48c4-4b02-992c-db4a73249b4c",
   "metadata": {},
   "outputs": [
    {
     "data": {
      "text/plain": [
       "()"
      ]
     },
     "execution_count": 279,
     "metadata": {},
     "output_type": "execute_result"
    }
   ],
   "source": [
    "y"
   ]
  },
  {
   "cell_type": "code",
   "execution_count": 281,
   "id": "eca8e3f7-9e6f-4d55-8bdc-96c0b6476a4d",
   "metadata": {},
   "outputs": [],
   "source": [
    "z=set()"
   ]
  },
  {
   "cell_type": "code",
   "execution_count": 283,
   "id": "c65741c7-2be9-4e31-9e7b-c5bf678908b6",
   "metadata": {},
   "outputs": [
    {
     "data": {
      "text/plain": [
       "set()"
      ]
     },
     "execution_count": 283,
     "metadata": {},
     "output_type": "execute_result"
    }
   ],
   "source": [
    "z"
   ]
  },
  {
   "cell_type": "code",
   "execution_count": 285,
   "id": "9a6165c7-f02a-40e9-a3cd-e44ddadbcc67",
   "metadata": {},
   "outputs": [],
   "source": [
    "a=dict()"
   ]
  },
  {
   "cell_type": "code",
   "execution_count": 287,
   "id": "b22cf27a-1b5d-44cb-830c-4ca991519ab5",
   "metadata": {},
   "outputs": [
    {
     "data": {
      "text/plain": [
       "{}"
      ]
     },
     "execution_count": 287,
     "metadata": {},
     "output_type": "execute_result"
    }
   ],
   "source": [
    "a"
   ]
  },
  {
   "cell_type": "code",
   "execution_count": 289,
   "id": "3c84efa4-f503-4e96-af82-2a83f61d97e7",
   "metadata": {},
   "outputs": [
    {
     "data": {
      "text/plain": [
       "'D:\\\\Restricted\\\\Workspaces\\\\Python_Workspace'"
      ]
     },
     "execution_count": 289,
     "metadata": {},
     "output_type": "execute_result"
    }
   ],
   "source": [
    "pwd"
   ]
  },
  {
   "cell_type": "code",
   "execution_count": 295,
   "id": "090e6b78-70a7-4cd5-9b0f-bb1c7bde5737",
   "metadata": {},
   "outputs": [
    {
     "name": "stdout",
     "output_type": "stream",
     "text": [
      "Writing abc.txt\n"
     ]
    }
   ],
   "source": [
    "%%writefile abc.txt\n",
    "this is first line\n",
    "second line\n",
    "third line"
   ]
  },
  {
   "cell_type": "code",
   "execution_count": 297,
   "id": "6cccb259-6506-4c54-bfc1-b4186ae249f1",
   "metadata": {},
   "outputs": [
    {
     "data": {
      "text/plain": [
       "<_io.TextIOWrapper name='abc.txt' mode='r' encoding='cp1252'>"
      ]
     },
     "execution_count": 297,
     "metadata": {},
     "output_type": "execute_result"
    }
   ],
   "source": [
    "open(\"abc.txt\")"
   ]
  },
  {
   "cell_type": "code",
   "execution_count": 299,
   "id": "547b8e01-27de-4a31-abe6-8c0c25803900",
   "metadata": {},
   "outputs": [
    {
     "ename": "FileNotFoundError",
     "evalue": "[Errno 2] No such file or directory: 'xyz.txt'",
     "output_type": "error",
     "traceback": [
      "\u001b[1;31m---------------------------------------------------------------------------\u001b[0m",
      "\u001b[1;31mFileNotFoundError\u001b[0m                         Traceback (most recent call last)",
      "Cell \u001b[1;32mIn[299], line 1\u001b[0m\n\u001b[1;32m----> 1\u001b[0m \u001b[38;5;28mopen\u001b[39m(\u001b[38;5;124m\"\u001b[39m\u001b[38;5;124mxyz.txt\u001b[39m\u001b[38;5;124m\"\u001b[39m)\n",
      "File \u001b[1;32mD:\\anaconda3\\Lib\\site-packages\\IPython\\core\\interactiveshell.py:324\u001b[0m, in \u001b[0;36m_modified_open\u001b[1;34m(file, *args, **kwargs)\u001b[0m\n\u001b[0;32m    317\u001b[0m \u001b[38;5;28;01mif\u001b[39;00m file \u001b[38;5;129;01min\u001b[39;00m {\u001b[38;5;241m0\u001b[39m, \u001b[38;5;241m1\u001b[39m, \u001b[38;5;241m2\u001b[39m}:\n\u001b[0;32m    318\u001b[0m     \u001b[38;5;28;01mraise\u001b[39;00m \u001b[38;5;167;01mValueError\u001b[39;00m(\n\u001b[0;32m    319\u001b[0m         \u001b[38;5;124mf\u001b[39m\u001b[38;5;124m\"\u001b[39m\u001b[38;5;124mIPython won\u001b[39m\u001b[38;5;124m'\u001b[39m\u001b[38;5;124mt let you open fd=\u001b[39m\u001b[38;5;132;01m{\u001b[39;00mfile\u001b[38;5;132;01m}\u001b[39;00m\u001b[38;5;124m by default \u001b[39m\u001b[38;5;124m\"\u001b[39m\n\u001b[0;32m    320\u001b[0m         \u001b[38;5;124m\"\u001b[39m\u001b[38;5;124mas it is likely to crash IPython. If you know what you are doing, \u001b[39m\u001b[38;5;124m\"\u001b[39m\n\u001b[0;32m    321\u001b[0m         \u001b[38;5;124m\"\u001b[39m\u001b[38;5;124myou can use builtins\u001b[39m\u001b[38;5;124m'\u001b[39m\u001b[38;5;124m open.\u001b[39m\u001b[38;5;124m\"\u001b[39m\n\u001b[0;32m    322\u001b[0m     )\n\u001b[1;32m--> 324\u001b[0m \u001b[38;5;28;01mreturn\u001b[39;00m io_open(file, \u001b[38;5;241m*\u001b[39margs, \u001b[38;5;241m*\u001b[39m\u001b[38;5;241m*\u001b[39mkwargs)\n",
      "\u001b[1;31mFileNotFoundError\u001b[0m: [Errno 2] No such file or directory: 'xyz.txt'"
     ]
    }
   ],
   "source": [
    "open(\"xyz.txt\")"
   ]
  },
  {
   "cell_type": "code",
   "execution_count": 301,
   "id": "034dd224-cdef-47fb-874a-78d37a2f949d",
   "metadata": {},
   "outputs": [
    {
     "data": {
      "text/plain": [
       "<_io.TextIOWrapper name='abc.txt' mode='r' encoding='cp1252'>"
      ]
     },
     "execution_count": 301,
     "metadata": {},
     "output_type": "execute_result"
    }
   ],
   "source": [
    "open(\"abc.txt\")"
   ]
  },
  {
   "cell_type": "code",
   "execution_count": 303,
   "id": "5bb7df91-9b4c-4d74-8d19-9014c78607ae",
   "metadata": {},
   "outputs": [
    {
     "ename": "NameError",
     "evalue": "name 'myfile' is not defined",
     "output_type": "error",
     "traceback": [
      "\u001b[1;31m---------------------------------------------------------------------------\u001b[0m",
      "\u001b[1;31mNameError\u001b[0m                                 Traceback (most recent call last)",
      "Cell \u001b[1;32mIn[303], line 1\u001b[0m\n\u001b[1;32m----> 1\u001b[0m myfile\u001b[38;5;241m.\u001b[39mopen()\n",
      "\u001b[1;31mNameError\u001b[0m: name 'myfile' is not defined"
     ]
    }
   ],
   "source": [
    "myfile.open()"
   ]
  },
  {
   "cell_type": "code",
   "execution_count": null,
   "id": "3f7d186b-08a5-4fda-86d7-171e008db4d1",
   "metadata": {},
   "outputs": [],
   "source": []
  }
 ],
 "metadata": {
  "kernelspec": {
   "display_name": "Python 3 (ipykernel)",
   "language": "python",
   "name": "python3"
  },
  "language_info": {
   "codemirror_mode": {
    "name": "ipython",
    "version": 3
   },
   "file_extension": ".py",
   "mimetype": "text/x-python",
   "name": "python",
   "nbconvert_exporter": "python",
   "pygments_lexer": "ipython3",
   "version": "3.12.4"
  }
 },
 "nbformat": 4,
 "nbformat_minor": 5
}
