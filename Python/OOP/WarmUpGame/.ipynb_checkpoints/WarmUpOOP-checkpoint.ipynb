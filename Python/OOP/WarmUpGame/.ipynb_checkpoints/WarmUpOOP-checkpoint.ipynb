{
 "cells": [
  {
   "cell_type": "code",
   "execution_count": 1,
   "id": "242c02ba-701e-421e-863a-15325f8afc85",
   "metadata": {},
   "outputs": [],
   "source": [
    "#Global vars\n",
    "suits = ('Hearts', 'Diamonds', 'Spades', 'Clubs')\n",
    "ranks = ('Two', 'Three', 'Four', 'Five', 'Six', 'Seven', 'Eight', 'Nine', 'Ten', 'Jack', 'Queen', 'King', 'Ace')\n",
    "values = {'Two':2, 'Three':3, 'Four':4, 'Five':5, 'Six':6, 'Seven':7, 'Eight':8, \n",
    "            'Nine':9, 'Ten':10, 'Jack':11, 'Queen':12, 'King':13, 'Ace':14}"
   ]
  },
  {
   "cell_type": "code",
   "execution_count": 2,
   "id": "c9aeb657-753c-4fe6-9fd8-eefe07e96f70",
   "metadata": {},
   "outputs": [],
   "source": [
    "#CARD Class\n",
    "#Attributes Suit,Rank and value(derived)\n",
    "class Card:\n",
    "\n",
    "    def __init__(self,suit,rank):\n",
    "        self.suit = suit\n",
    "        self.rank = rank\n",
    "        self.value = values[rank]\n",
    "\n",
    "    def __str__(self):\n",
    "        return self.rank+\" of \"+ self.suit\n",
    "    "
   ]
  },
  {
   "cell_type": "code",
   "execution_count": 3,
   "id": "1250d0c7-bfa1-4c20-b6b2-fbd679f84a5d",
   "metadata": {},
   "outputs": [
    {
     "name": "stdout",
     "output_type": "stream",
     "text": [
      "Two of Hearts\n"
     ]
    }
   ],
   "source": [
    "#Test card class\n",
    "seven_hearts = Card(\"Hearts\",\"Two\")\n",
    "seven_hearts\n",
    "print(seven_hearts)"
   ]
  },
  {
   "cell_type": "code",
   "execution_count": 4,
   "id": "6fe47392-c334-4bd7-b4e6-708a489d8f4c",
   "metadata": {},
   "outputs": [],
   "source": [
    "#DECK class\n",
    "import random\n",
    "class Deck:\n",
    "\n",
    "    def __init__(self):\n",
    "        #Initialize with empty list\n",
    "        self.allCards = []\n",
    "        for suit in suits:\n",
    "            for rank in ranks:\n",
    "                createdCard = Card(suit,rank)\n",
    "                self.allCards.append(createdCard)\n",
    "    \n",
    "    def shuffleCards(self):\n",
    "        random.shuffle(self.allCards)\n",
    "        \n",
    "    def dealOne(self):\n",
    "        return self.allCards.pop()"
   ]
  },
  {
   "cell_type": "code",
   "execution_count": 5,
   "id": "679eeb2d-660d-4092-82d3-87563901fe3c",
   "metadata": {},
   "outputs": [
    {
     "name": "stdout",
     "output_type": "stream",
     "text": [
      "\n",
      " Now taking one card....\n",
      "\n",
      "Nine of Spades\n"
     ]
    }
   ],
   "source": [
    "#Test deck class\n",
    "newDeck = Deck()\n",
    "newDeck.shuffleCards()\n",
    "#for card in newDeck.allCards:\n",
    "    #print(card)\n",
    "print(\"\\n Now taking one card....\\n\")\n",
    "myPoppedCard = newDeck.dealOne()\n",
    "print(myPoppedCard)"
   ]
  },
  {
   "cell_type": "code",
   "execution_count": 6,
   "id": "bbbbaf02-d2c9-467e-b65d-e6169febdfbd",
   "metadata": {},
   "outputs": [],
   "source": [
    "#Player class\n",
    "class Player:\n",
    "\n",
    "    def __init__(self,name):\n",
    "        self.name = name\n",
    "        self.all_cards = []\n",
    "\n",
    "    def remove_one(self):\n",
    "        self.all_cards.pop(0)\n",
    "\n",
    "    def add_cards(self,new_cards):\n",
    "        if(type(new_cards) == type([])):\n",
    "            #Multiple cards to be added\n",
    "            self.all_cards.extend(new_cards)\n",
    "        else:\n",
    "            #Single card to be added\n",
    "            self.all_cards.append(new_cards)\n",
    "            \n",
    "    def __str__(self):\n",
    "        return \"Player \"+self.name+\" has total of \"+ str(len(self.all_cards))+\" cards\""
   ]
  },
  {
   "cell_type": "code",
   "execution_count": 7,
   "id": "2b00e3e1-584a-4f55-91f2-4815880e50bf",
   "metadata": {},
   "outputs": [
    {
     "name": "stdout",
     "output_type": "stream",
     "text": [
      "Player mitul has total of 1 cards\n"
     ]
    }
   ],
   "source": [
    "#Test Player class\n",
    "player = Player(\"mitul\")\n",
    "player.add_cards(myPoppedCard)\n",
    "print(player)"
   ]
  },
  {
   "cell_type": "code",
   "execution_count": 8,
   "id": "02fab510-da93-4089-a7e2-f76ad1a63f6e",
   "metadata": {},
   "outputs": [],
   "source": [
    "#GAME setup\n",
    "#Create two players\n",
    "player_one = Player(\"One\")\n",
    "player_two = Player(\"Two\")\n",
    "\n",
    "#Create a new Deck\n",
    "my_deck = Deck()\n",
    "#Shuffle all the cards\n",
    "my_deck.shuffleCards()\n",
    "\n",
    "#Distribute the cards\n",
    "\n",
    "for x in range(26):\n",
    "    player_one.add_cards(my_deck.dealOne())\n",
    "    player_two.add_cards(my_deck.dealOne())"
   ]
  },
  {
   "cell_type": "code",
   "execution_count": 9,
   "id": "f8715026-bb15-4742-9949-260a1e2e0e8d",
   "metadata": {},
   "outputs": [
    {
     "name": "stdout",
     "output_type": "stream",
     "text": [
      "26\n"
     ]
    }
   ],
   "source": [
    "print(len(player_one.all_cards))"
   ]
  },
  {
   "cell_type": "code",
   "execution_count": null,
   "id": "0b063c57-f37c-4fdf-aadf-d7bec7f04a3a",
   "metadata": {},
   "outputs": [],
   "source": []
  }
 ],
 "metadata": {
  "kernelspec": {
   "display_name": "Python 3 (ipykernel)",
   "language": "python",
   "name": "python3"
  },
  "language_info": {
   "codemirror_mode": {
    "name": "ipython",
    "version": 3
   },
   "file_extension": ".py",
   "mimetype": "text/x-python",
   "name": "python",
   "nbconvert_exporter": "python",
   "pygments_lexer": "ipython3",
   "version": "3.12.4"
  }
 },
 "nbformat": 4,
 "nbformat_minor": 5
}
