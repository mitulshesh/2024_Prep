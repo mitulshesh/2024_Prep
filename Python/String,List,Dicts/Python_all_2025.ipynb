{
 "cells": [
  {
   "cell_type": "code",
   "execution_count": 1,
   "id": "0dd6210e-ba77-4271-b3ff-8cccba4fba3e",
   "metadata": {},
   "outputs": [],
   "source": [
    "str=\"mitul\""
   ]
  },
  {
   "cell_type": "code",
   "execution_count": 3,
   "id": "88de5135-07fb-449d-97cd-51908cbf1088",
   "metadata": {},
   "outputs": [
    {
     "data": {
      "text/plain": [
       "'mitul'"
      ]
     },
     "execution_count": 3,
     "metadata": {},
     "output_type": "execute_result"
    }
   ],
   "source": [
    "str"
   ]
  },
  {
   "cell_type": "code",
   "execution_count": 5,
   "id": "d64d884a-dc9a-4c09-a84e-2f9cf76c6842",
   "metadata": {},
   "outputs": [
    {
     "data": {
      "text/plain": [
       "5"
      ]
     },
     "execution_count": 5,
     "metadata": {},
     "output_type": "execute_result"
    }
   ],
   "source": [
    "len(str)"
   ]
  },
  {
   "cell_type": "code",
   "execution_count": 7,
   "id": "08a5725a-9087-436b-9f82-e12e9619a7e0",
   "metadata": {},
   "outputs": [],
   "source": [
    "list1 = ['mitul','pranali','prisha']"
   ]
  },
  {
   "cell_type": "code",
   "execution_count": 9,
   "id": "2e3482b3-3516-4df8-a31f-d4039d862638",
   "metadata": {},
   "outputs": [
    {
     "data": {
      "text/plain": [
       "['mitul', 'pranali', 'prisha']"
      ]
     },
     "execution_count": 9,
     "metadata": {},
     "output_type": "execute_result"
    }
   ],
   "source": [
    "list1"
   ]
  },
  {
   "cell_type": "code",
   "execution_count": 11,
   "id": "97f44ec4-991a-4978-8639-7fb8c8e06c83",
   "metadata": {},
   "outputs": [
    {
     "data": {
      "text/plain": [
       "'mitul'"
      ]
     },
     "execution_count": 11,
     "metadata": {},
     "output_type": "execute_result"
    }
   ],
   "source": [
    "list1[0]"
   ]
  },
  {
   "cell_type": "code",
   "execution_count": 13,
   "id": "0dc6b6e7-03c5-4396-b5a6-495cfe355e3f",
   "metadata": {},
   "outputs": [],
   "source": [
    "list1.reverse()"
   ]
  },
  {
   "cell_type": "code",
   "execution_count": 15,
   "id": "cb32d064-52fa-415e-9ca0-fbf4116bb54a",
   "metadata": {},
   "outputs": [
    {
     "data": {
      "text/plain": [
       "['prisha', 'pranali', 'mitul']"
      ]
     },
     "execution_count": 15,
     "metadata": {},
     "output_type": "execute_result"
    }
   ],
   "source": [
    "list1\n"
   ]
  },
  {
   "cell_type": "code",
   "execution_count": 17,
   "id": "1908b089-c6cd-46b4-bdb3-8ccb053b8765",
   "metadata": {},
   "outputs": [
    {
     "data": {
      "text/plain": [
       "'m'"
      ]
     },
     "execution_count": 17,
     "metadata": {},
     "output_type": "execute_result"
    }
   ],
   "source": [
    "str[0]"
   ]
  },
  {
   "cell_type": "code",
   "execution_count": 19,
   "id": "b071c038-4fe4-4c4c-b59c-20f4c5bc043e",
   "metadata": {},
   "outputs": [
    {
     "ename": "TypeError",
     "evalue": "'str' object does not support item assignment",
     "output_type": "error",
     "traceback": [
      "\u001b[1;31m---------------------------------------------------------------------------\u001b[0m",
      "\u001b[1;31mTypeError\u001b[0m                                 Traceback (most recent call last)",
      "Cell \u001b[1;32mIn[19], line 1\u001b[0m\n\u001b[1;32m----> 1\u001b[0m \u001b[38;5;28mstr\u001b[39m[\u001b[38;5;241m0\u001b[39m] \u001b[38;5;241m=\u001b[39m \u001b[38;5;124m'\u001b[39m\u001b[38;5;124mk\u001b[39m\u001b[38;5;124m'\u001b[39m\n",
      "\u001b[1;31mTypeError\u001b[0m: 'str' object does not support item assignment"
     ]
    }
   ],
   "source": [
    "str[0] = 'k'"
   ]
  },
  {
   "cell_type": "code",
   "execution_count": 21,
   "id": "2c0a3b4f-3a19-4661-a38c-0e864f7e77db",
   "metadata": {},
   "outputs": [
    {
     "data": {
      "text/plain": [
       "'mitul'"
      ]
     },
     "execution_count": 21,
     "metadata": {},
     "output_type": "execute_result"
    }
   ],
   "source": [
    "str"
   ]
  },
  {
   "cell_type": "code",
   "execution_count": 23,
   "id": "72ecea8b-4df4-420b-aed4-c467cade45de",
   "metadata": {},
   "outputs": [
    {
     "data": {
      "text/plain": [
       "'l'"
      ]
     },
     "execution_count": 23,
     "metadata": {},
     "output_type": "execute_result"
    }
   ],
   "source": [
    "str[-1]"
   ]
  },
  {
   "cell_type": "code",
   "execution_count": 25,
   "id": "fe79a131-1807-4745-9753-c719e5ebca51",
   "metadata": {},
   "outputs": [
    {
     "ename": "IndexError",
     "evalue": "string index out of range",
     "output_type": "error",
     "traceback": [
      "\u001b[1;31m---------------------------------------------------------------------------\u001b[0m",
      "\u001b[1;31mIndexError\u001b[0m                                Traceback (most recent call last)",
      "Cell \u001b[1;32mIn[25], line 1\u001b[0m\n\u001b[1;32m----> 1\u001b[0m \u001b[38;5;28mstr\u001b[39m[\u001b[38;5;241m-\u001b[39m\u001b[38;5;241m10\u001b[39m]\n",
      "\u001b[1;31mIndexError\u001b[0m: string index out of range"
     ]
    }
   ],
   "source": [
    "str[-10]"
   ]
  },
  {
   "cell_type": "code",
   "execution_count": 27,
   "id": "17d7dcf7-814d-4606-823a-382f48bda800",
   "metadata": {},
   "outputs": [],
   "source": [
    "dict1 = {'key1':'value1' , 'key2':'value1'}"
   ]
  },
  {
   "cell_type": "code",
   "execution_count": 29,
   "id": "830b5306-0aa5-4767-a841-8ab07a76a850",
   "metadata": {},
   "outputs": [
    {
     "data": {
      "text/plain": [
       "{'key1': 'value1', 'key2': 'value1'}"
      ]
     },
     "execution_count": 29,
     "metadata": {},
     "output_type": "execute_result"
    }
   ],
   "source": [
    "dict1"
   ]
  },
  {
   "cell_type": "code",
   "execution_count": 33,
   "id": "bd015fa6-2d37-4b98-8887-72a5aefe305e",
   "metadata": {},
   "outputs": [
    {
     "data": {
      "text/plain": [
       "'value1'"
      ]
     },
     "execution_count": 33,
     "metadata": {},
     "output_type": "execute_result"
    }
   ],
   "source": [
    "dict1['key2']"
   ]
  },
  {
   "cell_type": "code",
   "execution_count": 35,
   "id": "49f97d2b-cae7-48bf-83f7-00d38cb64a1f",
   "metadata": {},
   "outputs": [
    {
     "data": {
      "text/plain": [
       "3"
      ]
     },
     "execution_count": 35,
     "metadata": {},
     "output_type": "execute_result"
    }
   ],
   "source": [
    "len(list1)"
   ]
  },
  {
   "cell_type": "code",
   "execution_count": 37,
   "id": "14b3452a-ea2c-4334-9b83-db7980953873",
   "metadata": {},
   "outputs": [],
   "source": [
    "list1.append('suvarna')"
   ]
  },
  {
   "cell_type": "code",
   "execution_count": 39,
   "id": "3fcf5b97-2fc1-437f-a56a-ae2f7958c66e",
   "metadata": {},
   "outputs": [
    {
     "data": {
      "text/plain": [
       "['prisha', 'pranali', 'mitul', 'suvarna']"
      ]
     },
     "execution_count": 39,
     "metadata": {},
     "output_type": "execute_result"
    }
   ],
   "source": [
    "list1"
   ]
  },
  {
   "cell_type": "code",
   "execution_count": 41,
   "id": "286a15b0-d5cf-467e-9dfc-5022b1acf898",
   "metadata": {},
   "outputs": [],
   "source": [
    "str11 = list1[0]"
   ]
  },
  {
   "cell_type": "code",
   "execution_count": 43,
   "id": "ae04c78d-abc4-4d77-aaa8-40eebd02d9be",
   "metadata": {},
   "outputs": [
    {
     "data": {
      "text/plain": [
       "'ahsirp'"
      ]
     },
     "execution_count": 43,
     "metadata": {},
     "output_type": "execute_result"
    }
   ],
   "source": [
    "str11[::-1]"
   ]
  },
  {
   "cell_type": "code",
   "execution_count": 47,
   "id": "4f2a6488-611c-4fad-a558-477b4790f1c7",
   "metadata": {},
   "outputs": [
    {
     "data": {
      "text/plain": [
       "'PRISHA'"
      ]
     },
     "execution_count": 47,
     "metadata": {},
     "output_type": "execute_result"
    }
   ],
   "source": [
    "str11.upper()"
   ]
  },
  {
   "cell_type": "code",
   "execution_count": 49,
   "id": "3fa6f238-566a-4469-af7b-b93718f05ad8",
   "metadata": {},
   "outputs": [],
   "source": [
    "tup = (4,5,6)"
   ]
  },
  {
   "cell_type": "code",
   "execution_count": 53,
   "id": "b9f9987e-4f5e-4d9a-b72f-bf937a8bc106",
   "metadata": {},
   "outputs": [
    {
     "data": {
      "text/plain": [
       "2"
      ]
     },
     "execution_count": 53,
     "metadata": {},
     "output_type": "execute_result"
    }
   ],
   "source": [
    "tup.index(6)"
   ]
  },
  {
   "cell_type": "code",
   "execution_count": 55,
   "id": "b3d15b7f-fae0-4585-af79-108da8f433f1",
   "metadata": {},
   "outputs": [
    {
     "ename": "NameError",
     "evalue": "name 'x' is not defined",
     "output_type": "error",
     "traceback": [
      "\u001b[1;31m---------------------------------------------------------------------------\u001b[0m",
      "\u001b[1;31mNameError\u001b[0m                                 Traceback (most recent call last)",
      "Cell \u001b[1;32mIn[55], line 1\u001b[0m\n\u001b[1;32m----> 1\u001b[0m x\n",
      "\u001b[1;31mNameError\u001b[0m: name 'x' is not defined"
     ]
    }
   ],
   "source": [
    "x"
   ]
  },
  {
   "cell_type": "code",
   "execution_count": 57,
   "id": "8434a11f-bacf-4887-8cc9-e944fea02edb",
   "metadata": {},
   "outputs": [],
   "source": [
    "x = {}"
   ]
  },
  {
   "cell_type": "code",
   "execution_count": 59,
   "id": "fa5b9b4a-bae6-48ab-bfc4-46b138567e24",
   "metadata": {},
   "outputs": [
    {
     "data": {
      "text/plain": [
       "dict"
      ]
     },
     "execution_count": 59,
     "metadata": {},
     "output_type": "execute_result"
    }
   ],
   "source": [
    "type(x)"
   ]
  },
  {
   "cell_type": "code",
   "execution_count": 61,
   "id": "ef4f67b5-dfb0-475c-9b37-d10eea501bb7",
   "metadata": {},
   "outputs": [],
   "source": [
    "setmitul = set()"
   ]
  },
  {
   "cell_type": "code",
   "execution_count": 63,
   "id": "55cbe054-c337-477c-8348-7254ebf73c68",
   "metadata": {},
   "outputs": [
    {
     "data": {
      "text/plain": [
       "set"
      ]
     },
     "execution_count": 63,
     "metadata": {},
     "output_type": "execute_result"
    }
   ],
   "source": [
    "type(setmitul)"
   ]
  },
  {
   "cell_type": "code",
   "execution_count": 65,
   "id": "2c348b41-520f-42b3-a869-171e6db4b117",
   "metadata": {},
   "outputs": [],
   "source": [
    "setmitul.add(1)"
   ]
  },
  {
   "cell_type": "code",
   "execution_count": 67,
   "id": "52cc1e72-f529-4af4-bc56-2864cf8e82bc",
   "metadata": {},
   "outputs": [],
   "source": [
    "setmitul.add('1')"
   ]
  },
  {
   "cell_type": "code",
   "execution_count": 69,
   "id": "22b7a7da-34d5-438f-a0ff-3711cedf674f",
   "metadata": {},
   "outputs": [
    {
     "data": {
      "text/plain": [
       "{1, '1'}"
      ]
     },
     "execution_count": 69,
     "metadata": {},
     "output_type": "execute_result"
    }
   ],
   "source": [
    "setmitul"
   ]
  },
  {
   "cell_type": "code",
   "execution_count": null,
   "id": "dc29e455-2e42-4bcb-9b1e-7b77d9473d23",
   "metadata": {},
   "outputs": [],
   "source": []
  },
  {
   "cell_type": "code",
   "execution_count": 77,
   "id": "dec49ab5-0dc3-4921-ad8f-9a929c0a7d6a",
   "metadata": {},
   "outputs": [],
   "source": [
    "tuple111 =(1,)"
   ]
  },
  {
   "cell_type": "code",
   "execution_count": null,
   "id": "94e1f41f-2d67-4fb2-8ce5-ec3ca7a9da7c",
   "metadata": {},
   "outputs": [],
   "source": []
  },
  {
   "cell_type": "code",
   "execution_count": 79,
   "id": "62904e17-ad2c-4971-b145-304fb27419b7",
   "metadata": {},
   "outputs": [
    {
     "data": {
      "text/plain": [
       "(1,)"
      ]
     },
     "execution_count": 79,
     "metadata": {},
     "output_type": "execute_result"
    }
   ],
   "source": [
    "tuple111"
   ]
  },
  {
   "cell_type": "code",
   "execution_count": 89,
   "id": "3b76fbfb-f369-4b43-97a3-4f6a09965162",
   "metadata": {},
   "outputs": [],
   "source": [
    "myfile = open('testfile.txt')"
   ]
  },
  {
   "cell_type": "code",
   "execution_count": null,
   "id": "b6bc1ad1-8dd8-47b4-b8a8-e589e108b7b4",
   "metadata": {},
   "outputs": [],
   "source": [
    "with open("
   ]
  },
  {
   "cell_type": "code",
   "execution_count": null,
   "id": "0d9f782e-a06d-4894-a079-c1e6992f3180",
   "metadata": {},
   "outputs": [],
   "source": []
  },
  {
   "cell_type": "code",
   "execution_count": null,
   "id": "71944a8a-4777-4e53-b475-4f02d91775c6",
   "metadata": {},
   "outputs": [],
   "source": []
  },
  {
   "cell_type": "code",
   "execution_count": 83,
   "id": "80c43611-051e-49c7-8db8-4ef0bc3a9f7d",
   "metadata": {},
   "outputs": [
    {
     "data": {
      "text/plain": [
       "'E:\\\\Workspaces\\\\2024_Prep\\\\Python\\\\String,List,Dicts'"
      ]
     },
     "execution_count": 83,
     "metadata": {},
     "output_type": "execute_result"
    }
   ],
   "source": [
    "pwd"
   ]
  },
  {
   "cell_type": "code",
   "execution_count": 2,
   "id": "c17b8648-52a3-4369-834d-19fc2bdbde41",
   "metadata": {},
   "outputs": [],
   "source": [
    "dict_prisha = {'likes1':'gugubai','likes2':'bhokadi'}"
   ]
  },
  {
   "cell_type": "code",
   "execution_count": 10,
   "id": "7e6e5be5-316a-4124-9fa3-5eeb893e2d85",
   "metadata": {},
   "outputs": [
    {
     "name": "stdout",
     "output_type": "stream",
     "text": [
      "gugubai\n",
      "bhokadi\n"
     ]
    }
   ],
   "source": [
    "for a,b in dict_prisha.items():\n",
    "    print(b)"
   ]
  },
  {
   "cell_type": "code",
   "execution_count": 1,
   "id": "2bf00625-c7b3-47ab-8b4c-92a234d395b1",
   "metadata": {},
   "outputs": [
    {
     "name": "stdout",
     "output_type": "stream",
     "text": [
      "(0, 'P')\n",
      "(1, 'R')\n",
      "(2, 'I')\n",
      "(3, 'S')\n",
      "(4, 'H')\n",
      "(5, 'A')\n"
     ]
    }
   ],
   "source": [
    "word = \"PRISHA\"\n",
    "\n",
    "for item in enumerate(word):\n",
    "    print(item)\n",
    "    "
   ]
  },
  {
   "cell_type": "code",
   "execution_count": 2,
   "id": "ae5891be-743a-4416-8e48-1b8bdb66ac35",
   "metadata": {},
   "outputs": [],
   "source": [
    "list1 = ('a','b','c','d')\n",
    "list2 = (1,2,3,4,5)"
   ]
  },
  {
   "cell_type": "code",
   "execution_count": 4,
   "id": "ee700bd8-6382-4c24-a494-4a3a5903fbd4",
   "metadata": {},
   "outputs": [
    {
     "data": {
      "text/plain": [
       "<zip at 0x1504b081f40>"
      ]
     },
     "execution_count": 4,
     "metadata": {},
     "output_type": "execute_result"
    }
   ],
   "source": [
    "zip(list1,list2)"
   ]
  },
  {
   "cell_type": "code",
   "execution_count": 6,
   "id": "c12c7cda-4c4b-46a8-93e6-773a8e1b8186",
   "metadata": {},
   "outputs": [
    {
     "name": "stdout",
     "output_type": "stream",
     "text": [
      "('a', 1)\n",
      "('b', 2)\n",
      "('c', 3)\n",
      "('d', 4)\n"
     ]
    }
   ],
   "source": [
    "for item in zip(list1,list2):\n",
    "    print(item)"
   ]
  },
  {
   "cell_type": "code",
   "execution_count": 8,
   "id": "4938c2db-5ca5-41c4-8088-7a56d3508242",
   "metadata": {},
   "outputs": [],
   "source": [
    "mylist = list(zip(list1,list2))"
   ]
  },
  {
   "cell_type": "code",
   "execution_count": 12,
   "id": "72067364-3ff3-44b2-9df0-127d1d4517c0",
   "metadata": {
    "editable": true,
    "slideshow": {
     "slide_type": ""
    },
    "tags": []
   },
   "outputs": [
    {
     "data": {
      "text/plain": [
       "[('a', 1), ('b', 2), ('c', 3), ('d', 4)]"
      ]
     },
     "execution_count": 12,
     "metadata": {},
     "output_type": "execute_result"
    }
   ],
   "source": [
    "mylist"
   ]
  },
  {
   "cell_type": "code",
   "execution_count": 24,
   "id": "c1642091-0a80-4e3f-bc0c-7a04c90a4126",
   "metadata": {},
   "outputs": [
    {
     "data": {
      "text/plain": [
       "3"
      ]
     },
     "execution_count": 24,
     "metadata": {},
     "output_type": "execute_result"
    }
   ],
   "source": [
    "from random import shuffle,randint\n",
    "list1 = [10,20,30,40,50]\n",
    "shuffle(list1)\n",
    "randint(0,10)\n"
   ]
  },
  {
   "cell_type": "code",
   "execution_count": null,
   "id": "70e05a00-adfb-42b5-9646-925d8c774394",
   "metadata": {},
   "outputs": [],
   "source": []
  },
  {
   "cell_type": "code",
   "execution_count": null,
   "id": "8d49f9de-ed84-4714-b361-8f0b46660759",
   "metadata": {},
   "outputs": [],
   "source": []
  },
  {
   "cell_type": "code",
   "execution_count": 22,
   "id": "a9861e5b-a35a-4924-9058-a4a53a00a136",
   "metadata": {},
   "outputs": [
    {
     "data": {
      "text/plain": [
       "[40, 20, 30, 10, 50]"
      ]
     },
     "execution_count": 22,
     "metadata": {},
     "output_type": "execute_result"
    }
   ],
   "source": [
    "list1"
   ]
  },
  {
   "cell_type": "code",
   "execution_count": 34,
   "id": "4b07b19e-9602-4522-b04f-393f3a07e49d",
   "metadata": {},
   "outputs": [],
   "source": [
    "#celsius to farhenhiet conversion\n",
    "celcius = [36.2 , 140, 50, 65]\n",
    "fah = [((9*c/5)+32) for c in celcius]"
   ]
  },
  {
   "cell_type": "code",
   "execution_count": null,
   "id": "0a470e68-a7cb-4c00-9dd1-2ce12ce8d708",
   "metadata": {},
   "outputs": [],
   "source": []
  },
  {
   "cell_type": "code",
   "execution_count": 36,
   "id": "13a420a8-0b62-44c9-81e6-f108be326101",
   "metadata": {},
   "outputs": [
    {
     "data": {
      "text/plain": [
       "[97.16, 284.0, 122.0, 149.0]"
      ]
     },
     "execution_count": 36,
     "metadata": {},
     "output_type": "execute_result"
    }
   ],
   "source": [
    "fah"
   ]
  },
  {
   "cell_type": "code",
   "execution_count": 1,
   "id": "f645b63b-3bc8-4c5b-8d81-6ca3e9c69a14",
   "metadata": {},
   "outputs": [],
   "source": [
    "list1 = [ '123','456']"
   ]
  },
  {
   "cell_type": "code",
   "execution_count": 2,
   "id": "d47d949e-7c72-4c89-8d35-71b3c8975274",
   "metadata": {},
   "outputs": [
    {
     "name": "stdout",
     "output_type": "stream",
     "text": [
      "Help on built-in function remove:\n",
      "\n",
      "remove(value, /) method of builtins.list instance\n",
      "    Remove first occurrence of value.\n",
      "\n",
      "    Raises ValueError if the value is not present.\n",
      "\n"
     ]
    }
   ],
   "source": [
    "help(list1.remove)"
   ]
  },
  {
   "cell_type": "code",
   "execution_count": 12,
   "id": "87122ead-904d-4dc0-a32a-3e64e2370bd7",
   "metadata": {},
   "outputs": [],
   "source": [
    "#function to return employee_of_the_month\n",
    "def find_employee_of_the_month(emp):\n",
    "    current_max = 0\n",
    "    employee_of_the_month = ''\n",
    "    for emp,hrs in emp:\n",
    "        if hrs > current_max:\n",
    "            current_max = hrs\n",
    "            employee_of_the_month = emp\n",
    "        else:\n",
    "            pass\n",
    "\n",
    "    return (employee_of_the_month,current_max)"
   ]
  },
  {
   "cell_type": "code",
   "execution_count": 13,
   "id": "28c729d0-0e2a-43a8-806c-7c7bfd623220",
   "metadata": {},
   "outputs": [],
   "source": [
    "emp_tuple = [('Abby',100),('Cassie',50),('mitul',1000)]"
   ]
  },
  {
   "cell_type": "code",
   "execution_count": 14,
   "id": "18781064-f433-49b5-8855-e861d12573e1",
   "metadata": {},
   "outputs": [
    {
     "data": {
      "text/plain": [
       "('mitul', 1000)"
      ]
     },
     "execution_count": 14,
     "metadata": {},
     "output_type": "execute_result"
    }
   ],
   "source": [
    "find_employee_of_the_month(emp_tuple)"
   ]
  },
  {
   "cell_type": "code",
   "execution_count": null,
   "id": "a31a12c4-c914-41a8-b283-179174e8f74e",
   "metadata": {},
   "outputs": [],
   "source": []
  },
  {
   "cell_type": "code",
   "execution_count": 15,
   "id": "94b6363f-75bc-403f-801d-59dd058cf328",
   "metadata": {},
   "outputs": [
    {
     "ename": "ValueError",
     "evalue": "not enough values to unpack (expected 3, got 2)",
     "output_type": "error",
     "traceback": [
      "\u001b[1;31m---------------------------------------------------------------------------\u001b[0m",
      "\u001b[1;31mValueError\u001b[0m                                Traceback (most recent call last)",
      "Cell \u001b[1;32mIn[15], line 1\u001b[0m\n\u001b[1;32m----> 1\u001b[0m name,hrs,location \u001b[38;5;241m=\u001b[39m find_employee_of_the_month(emp_tuple)\n",
      "\u001b[1;31mValueError\u001b[0m: not enough values to unpack (expected 3, got 2)"
     ]
    }
   ],
   "source": [
    "name,hrs,location = find_employee_of_the_month(emp_tuple)"
   ]
  },
  {
   "cell_type": "code",
   "execution_count": null,
   "id": "90ff0b05-a928-4282-872b-17bbc38129e5",
   "metadata": {},
   "outputs": [],
   "source": []
  },
  {
   "cell_type": "code",
   "execution_count": 10,
   "id": "8091dea0-3a2f-4c34-a436-3e313e8b253c",
   "metadata": {},
   "outputs": [
    {
     "data": {
      "text/plain": [
       "'mitul'"
      ]
     },
     "execution_count": 10,
     "metadata": {},
     "output_type": "execute_result"
    }
   ],
   "source": [
    "name"
   ]
  },
  {
   "cell_type": "code",
   "execution_count": 16,
   "id": "389029c0-6d72-418f-abfc-77ba57be19c1",
   "metadata": {},
   "outputs": [
    {
     "data": {
      "text/plain": [
       "1000"
      ]
     },
     "execution_count": 16,
     "metadata": {},
     "output_type": "execute_result"
    }
   ],
   "source": [
    "hrs"
   ]
  },
  {
   "cell_type": "code",
   "execution_count": 6,
   "id": "d431523c-2b75-4e65-96d7-f69606e6e3a6",
   "metadata": {},
   "outputs": [],
   "source": [
    "#args and kwargs\n",
    "def myfunc(*args):\n",
    "    print(args)\n",
    "    print(sum(args)*0.5)"
   ]
  },
  {
   "cell_type": "code",
   "execution_count": 7,
   "id": "5fa3373d-bf6a-401d-9d99-58390ec30909",
   "metadata": {},
   "outputs": [
    {
     "name": "stdout",
     "output_type": "stream",
     "text": [
      "(10, 20, 30, 40, 50)\n",
      "75.0\n"
     ]
    }
   ],
   "source": [
    "myfunc(10,20,30,40,50)"
   ]
  },
  {
   "cell_type": "code",
   "execution_count": 22,
   "id": "b8bfdc91-b5ab-4838-adea-71dae95b7d3b",
   "metadata": {},
   "outputs": [],
   "source": [
    "def myfunc1(**kwargs):\n",
    "    print(kwargs)\n",
    "    if 'Fruit' in kwargs:\n",
    "        print('my favourite Fruit is {}'.format(kwargs['Fruit']))\n",
    "    else:\n",
    "        pass\n",
    "        "
   ]
  },
  {
   "cell_type": "code",
   "execution_count": null,
   "id": "48f17f8e-c5bd-409c-8303-37eb2a5891fa",
   "metadata": {},
   "outputs": [],
   "source": []
  },
  {
   "cell_type": "code",
   "execution_count": 23,
   "id": "70163130-b692-40b0-bcad-fbcdb81c6488",
   "metadata": {},
   "outputs": [
    {
     "name": "stdout",
     "output_type": "stream",
     "text": [
      "{'color': 'orange', 'Fruit': 'Banana'}\n",
      "my favourite Fruit is Banana\n"
     ]
    }
   ],
   "source": [
    "myfunc1(color='orange',Fruit='Banana')"
   ]
  },
  {
   "cell_type": "code",
   "execution_count": 1,
   "id": "dbdd404e-3517-4216-b02c-fee7c22e2108",
   "metadata": {},
   "outputs": [],
   "source": [
    "#map\n",
    "def splicer(name):\n",
    "    if len(name) % 2 == 0:\n",
    "        return 'EVEN'\n",
    "    else:\n",
    "        return name[len(name)-1]"
   ]
  },
  {
   "cell_type": "code",
   "execution_count": 2,
   "id": "0fc15853-a64a-45e3-b983-412277a309a0",
   "metadata": {},
   "outputs": [],
   "source": [
    "names = ['Mitul','Pranali','Prisha','Sally','Abby']"
   ]
  },
  {
   "cell_type": "code",
   "execution_count": 3,
   "id": "9fe4a207-8911-4d4a-9551-55ef36e2f402",
   "metadata": {},
   "outputs": [
    {
     "data": {
      "text/plain": [
       "['l', 'i', 'EVEN', 'y', 'EVEN']"
      ]
     },
     "execution_count": 3,
     "metadata": {},
     "output_type": "execute_result"
    }
   ],
   "source": [
    "list(map(splicer,names))"
   ]
  },
  {
   "cell_type": "code",
   "execution_count": 4,
   "id": "13dbd808-3e19-454f-8728-a72b2e47783c",
   "metadata": {},
   "outputs": [],
   "source": [
    "#filter\n",
    "def check_even(num):\n",
    "    return num % 2 == 0"
   ]
  },
  {
   "cell_type": "code",
   "execution_count": 5,
   "id": "54369ad5-756a-48ca-9945-96e374e6f467",
   "metadata": {},
   "outputs": [],
   "source": [
    "nums = [2,3,5,6,7,8,9]"
   ]
  },
  {
   "cell_type": "code",
   "execution_count": 6,
   "id": "2ee60aa6-b636-4bd0-9817-621583559ccd",
   "metadata": {},
   "outputs": [
    {
     "data": {
      "text/plain": [
       "[2, 6, 8]"
      ]
     },
     "execution_count": 6,
     "metadata": {},
     "output_type": "execute_result"
    }
   ],
   "source": [
    "list(filter(check_even,nums))"
   ]
  },
  {
   "cell_type": "code",
   "execution_count": 8,
   "id": "661d1285-0f91-4909-8b52-b21761e0dd11",
   "metadata": {},
   "outputs": [
    {
     "data": {
      "text/plain": [
       "[2, 6, 8]"
      ]
     },
     "execution_count": 8,
     "metadata": {},
     "output_type": "execute_result"
    }
   ],
   "source": [
    "list(filter(lambda num:num%2==0,nums))"
   ]
  },
  {
   "cell_type": "code",
   "execution_count": 9,
   "id": "04279cb2-93cf-47eb-984e-41ae117a6e8a",
   "metadata": {},
   "outputs": [
    {
     "data": {
      "text/plain": [
       "[4, 9, 25, 36, 49, 64, 81]"
      ]
     },
     "execution_count": 9,
     "metadata": {},
     "output_type": "execute_result"
    }
   ],
   "source": [
    "#return square of all nums\n",
    "list(map(lambda num:num**2,nums))"
   ]
  },
  {
   "cell_type": "code",
   "execution_count": 10,
   "id": "436c0726-2693-451c-8d6a-80b6867e1ee0",
   "metadata": {},
   "outputs": [
    {
     "data": {
      "text/plain": [
       "{'__name__': '__main__',\n",
       " '__doc__': 'Automatically created module for IPython interactive environment',\n",
       " '__package__': None,\n",
       " '__loader__': None,\n",
       " '__spec__': None,\n",
       " '__builtin__': <module 'builtins' (built-in)>,\n",
       " '__builtins__': <module 'builtins' (built-in)>,\n",
       " '_ih': ['',\n",
       "  \"#map\\ndef splicer(name):\\n    if len(name) % 2 == 0:\\n        return 'EVEN'\\n    else:\\n        return name[len(name)-1]\",\n",
       "  \"names = ['Mitul','Pranali','Prisha','Sally','Abby']\",\n",
       "  'list(map(splicer,names))',\n",
       "  '#filter\\ndef check_even(num):\\n    return num % 2 == 0',\n",
       "  'nums = [2,3,5,6,7,8,9]',\n",
       "  'list(filter(check_even,nums))',\n",
       "  'filter(lambda num:num%2==0,nums)',\n",
       "  'list(filter(lambda num:num%2==0,nums))',\n",
       "  '#return square of all nums\\nlist(map(lambda num:num**2,nums))',\n",
       "  'globals()'],\n",
       " '_oh': {1: '[]',\n",
       "  2: '[]',\n",
       "  3: ['l', 'i', 'EVEN', 'y', 'EVEN'],\n",
       "  4: '[{\"varName\": \"names\", \"varType\": \"list\", \"varSize\": \"104\", \"varShape\": \"5\", \"varContent\": \"[\\'Mitul\\', \\'Pranali\\', \\'Prisha\\', \\'Sally\\', \\'Abby\\']\", \"isMatrix\": true, \"isWidget\": false}]',\n",
       "  5: '[{\"varName\": \"names\", \"varType\": \"list\", \"varSize\": \"104\", \"varShape\": \"5\", \"varContent\": \"[\\'Mitul\\', \\'Pranali\\', \\'Prisha\\', \\'Sally\\', \\'Abby\\']\", \"isMatrix\": true, \"isWidget\": false}]',\n",
       "  6: [2, 6, 8],\n",
       "  7: <filter at 0x1784b35dfc0>,\n",
       "  8: [2, 6, 8],\n",
       "  9: [4, 9, 25, 36, 49, 64, 81],\n",
       "  10: '[{\"varName\": \"names\", \"varType\": \"list\", \"varSize\": \"104\", \"varShape\": \"5\", \"varContent\": \"[\\'Mitul\\', \\'Pranali\\', \\'Prisha\\', \\'Sally\\', \\'Abby\\']\", \"isMatrix\": true, \"isWidget\": false}, {\"varName\": \"nums\", \"varType\": \"list\", \"varSize\": \"120\", \"varShape\": \"7\", \"varContent\": \"[2, 3, 5, 6, 7, 8, 9]\", \"isMatrix\": true, \"isWidget\": false}]'},\n",
       " '_dh': [WindowsPath('E:/Workspaces/2024_Prep/Python/String,List,Dicts')],\n",
       " 'In': ['',\n",
       "  \"#map\\ndef splicer(name):\\n    if len(name) % 2 == 0:\\n        return 'EVEN'\\n    else:\\n        return name[len(name)-1]\",\n",
       "  \"names = ['Mitul','Pranali','Prisha','Sally','Abby']\",\n",
       "  'list(map(splicer,names))',\n",
       "  '#filter\\ndef check_even(num):\\n    return num % 2 == 0',\n",
       "  'nums = [2,3,5,6,7,8,9]',\n",
       "  'list(filter(check_even,nums))',\n",
       "  'filter(lambda num:num%2==0,nums)',\n",
       "  'list(filter(lambda num:num%2==0,nums))',\n",
       "  '#return square of all nums\\nlist(map(lambda num:num**2,nums))',\n",
       "  'globals()'],\n",
       " 'Out': {1: '[]',\n",
       "  2: '[]',\n",
       "  3: ['l', 'i', 'EVEN', 'y', 'EVEN'],\n",
       "  4: '[{\"varName\": \"names\", \"varType\": \"list\", \"varSize\": \"104\", \"varShape\": \"5\", \"varContent\": \"[\\'Mitul\\', \\'Pranali\\', \\'Prisha\\', \\'Sally\\', \\'Abby\\']\", \"isMatrix\": true, \"isWidget\": false}]',\n",
       "  5: '[{\"varName\": \"names\", \"varType\": \"list\", \"varSize\": \"104\", \"varShape\": \"5\", \"varContent\": \"[\\'Mitul\\', \\'Pranali\\', \\'Prisha\\', \\'Sally\\', \\'Abby\\']\", \"isMatrix\": true, \"isWidget\": false}]',\n",
       "  6: [2, 6, 8],\n",
       "  7: <filter at 0x1784b35dfc0>,\n",
       "  8: [2, 6, 8],\n",
       "  9: [4, 9, 25, 36, 49, 64, 81],\n",
       "  10: '[{\"varName\": \"names\", \"varType\": \"list\", \"varSize\": \"104\", \"varShape\": \"5\", \"varContent\": \"[\\'Mitul\\', \\'Pranali\\', \\'Prisha\\', \\'Sally\\', \\'Abby\\']\", \"isMatrix\": true, \"isWidget\": false}, {\"varName\": \"nums\", \"varType\": \"list\", \"varSize\": \"120\", \"varShape\": \"7\", \"varContent\": \"[2, 3, 5, 6, 7, 8, 9]\", \"isMatrix\": true, \"isWidget\": false}]'},\n",
       " 'get_ipython': <function IPython.core.getipython.get_ipython()>,\n",
       " 'exit': <IPython.core.autocall.ZMQExitAutocall at 0x17848088350>,\n",
       " 'quit': <IPython.core.autocall.ZMQExitAutocall at 0x17848088350>,\n",
       " 'open': <function _io.open(file, mode='r', buffering=-1, encoding=None, errors=None, newline=None, closefd=True, opener=None)>,\n",
       " '_': '[{\"varName\": \"names\", \"varType\": \"list\", \"varSize\": \"104\", \"varShape\": \"5\", \"varContent\": \"[\\'Mitul\\', \\'Pranali\\', \\'Prisha\\', \\'Sally\\', \\'Abby\\']\", \"isMatrix\": true, \"isWidget\": false}, {\"varName\": \"nums\", \"varType\": \"list\", \"varSize\": \"120\", \"varShape\": \"7\", \"varContent\": \"[2, 3, 5, 6, 7, 8, 9]\", \"isMatrix\": true, \"isWidget\": false}]',\n",
       " '__': [4, 9, 25, 36, 49, 64, 81],\n",
       " '___': '[{\"varName\": \"names\", \"varType\": \"list\", \"varSize\": \"104\", \"varShape\": \"5\", \"varContent\": \"[\\'Mitul\\', \\'Pranali\\', \\'Prisha\\', \\'Sally\\', \\'Abby\\']\", \"isMatrix\": true, \"isWidget\": false}, {\"varName\": \"nums\", \"varType\": \"list\", \"varSize\": \"120\", \"varShape\": \"7\", \"varContent\": \"[2, 3, 5, 6, 7, 8, 9]\", \"isMatrix\": true, \"isWidget\": false}]',\n",
       " '__session__': 'E:\\\\Workspaces\\\\2024_Prep\\\\Python\\\\String,List,Dicts\\\\Python_all_2025.ipynb',\n",
       " 'json': <module 'json' from 'E:\\\\Anaconda3_2024.10-1\\\\Lib\\\\json\\\\__init__.py'>,\n",
       " 'sys': <module 'sys' (built-in)>,\n",
       " '__import__': <function _frozen_importlib.__import__(name, globals=None, locals=None, fromlist=(), level=0)>,\n",
       " 'NamespaceMagics': IPython.core.magics.namespace.NamespaceMagics,\n",
       " '_jupyterlab_variableinspector_nms': <IPython.core.magics.namespace.NamespaceMagics at 0x17848529310>,\n",
       " '_jupyterlab_variableinspector_Jupyter': <ipykernel.zmqshell.ZMQInteractiveShell at 0x17848043b90>,\n",
       " '__np': <module 'numpy' from 'E:\\\\Anaconda3_2024.10-1\\\\Lib\\\\site-packages\\\\numpy\\\\__init__.py'>,\n",
       " '__pd': <module 'pandas' from 'E:\\\\Anaconda3_2024.10-1\\\\Lib\\\\site-packages\\\\pandas\\\\__init__.py'>,\n",
       " '__pyspark': None,\n",
       " '__tf': None,\n",
       " '__K': None,\n",
       " '__torch': None,\n",
       " '__ipywidgets': <module 'ipywidgets' from 'E:\\\\Anaconda3_2024.10-1\\\\Lib\\\\site-packages\\\\ipywidgets\\\\__init__.py'>,\n",
       " '__xr': <module 'xarray' from 'E:\\\\Anaconda3_2024.10-1\\\\Lib\\\\site-packages\\\\xarray\\\\__init__.py'>,\n",
       " '_attempt_import': <function __main__._attempt_import(module)>,\n",
       " '_check_imported': <function __main__._check_imported()>,\n",
       " '_jupyterlab_variableinspector_getsizeof': <function __main__._jupyterlab_variableinspector_getsizeof(x)>,\n",
       " '_jupyterlab_variableinspector_getshapeof': <function __main__._jupyterlab_variableinspector_getshapeof(x)>,\n",
       " '_jupyterlab_variableinspector_getcontentof': <function __main__._jupyterlab_variableinspector_getcontentof(x)>,\n",
       " '_jupyterlab_variableinspector_is_matrix': <function __main__._jupyterlab_variableinspector_is_matrix(x)>,\n",
       " '_jupyterlab_variableinspector_is_widget': <function __main__._jupyterlab_variableinspector_is_widget(x)>,\n",
       " '_jupyterlab_variableinspector_dict_list': <function __main__._jupyterlab_variableinspector_dict_list()>,\n",
       " '_jupyterlab_variableinspector_getmatrixcontent': <function __main__._jupyterlab_variableinspector_getmatrixcontent(x, max_rows=10000)>,\n",
       " '_jupyterlab_variableinspector_displaywidget': <function __main__._jupyterlab_variableinspector_displaywidget(widget)>,\n",
       " '_jupyterlab_variableinspector_default': <function __main__._jupyterlab_variableinspector_default(o)>,\n",
       " '_jupyterlab_variableinspector_deletevariable': <function __main__._jupyterlab_variableinspector_deletevariable(x)>,\n",
       " '_1': '[]',\n",
       " '_i': '#return square of all nums\\nlist(map(lambda num:num**2,nums))',\n",
       " '_ii': 'list(filter(lambda num:num%2==0,nums))',\n",
       " '_iii': 'filter(lambda num:num%2==0,nums)',\n",
       " '_i1': \"#map\\ndef splicer(name):\\n    if len(name) % 2 == 0:\\n        return 'EVEN'\\n    else:\\n        return name[len(name)-1]\",\n",
       " 'splicer': <function __main__.splicer(name)>,\n",
       " '_2': '[]',\n",
       " '_i2': \"names = ['Mitul','Pranali','Prisha','Sally','Abby']\",\n",
       " 'names': ['Mitul', 'Pranali', 'Prisha', 'Sally', 'Abby'],\n",
       " '_3': ['l', 'i', 'EVEN', 'y', 'EVEN'],\n",
       " '_i3': 'list(map(splicer,names))',\n",
       " '_4': '[{\"varName\": \"names\", \"varType\": \"list\", \"varSize\": \"104\", \"varShape\": \"5\", \"varContent\": \"[\\'Mitul\\', \\'Pranali\\', \\'Prisha\\', \\'Sally\\', \\'Abby\\']\", \"isMatrix\": true, \"isWidget\": false}]',\n",
       " '_i4': '#filter\\ndef check_even(num):\\n    return num % 2 == 0',\n",
       " 'check_even': <function __main__.check_even(num)>,\n",
       " '_5': '[{\"varName\": \"names\", \"varType\": \"list\", \"varSize\": \"104\", \"varShape\": \"5\", \"varContent\": \"[\\'Mitul\\', \\'Pranali\\', \\'Prisha\\', \\'Sally\\', \\'Abby\\']\", \"isMatrix\": true, \"isWidget\": false}]',\n",
       " '_i5': 'nums = [2,3,5,6,7,8,9]',\n",
       " 'nums': [2, 3, 5, 6, 7, 8, 9],\n",
       " '_6': [2, 6, 8],\n",
       " '_i6': 'list(filter(check_even,nums))',\n",
       " '_7': <filter at 0x1784b35dfc0>,\n",
       " '_i7': 'filter(lambda num:num%2==0,nums)',\n",
       " '_8': [2, 6, 8],\n",
       " '_i8': 'list(filter(lambda num:num%2==0,nums))',\n",
       " '_9': [4, 9, 25, 36, 49, 64, 81],\n",
       " '_i9': '#return square of all nums\\nlist(map(lambda num:num**2,nums))',\n",
       " '_10': '[{\"varName\": \"names\", \"varType\": \"list\", \"varSize\": \"104\", \"varShape\": \"5\", \"varContent\": \"[\\'Mitul\\', \\'Pranali\\', \\'Prisha\\', \\'Sally\\', \\'Abby\\']\", \"isMatrix\": true, \"isWidget\": false}, {\"varName\": \"nums\", \"varType\": \"list\", \"varSize\": \"120\", \"varShape\": \"7\", \"varContent\": \"[2, 3, 5, 6, 7, 8, 9]\", \"isMatrix\": true, \"isWidget\": false}]',\n",
       " '_i10': 'globals()'}"
      ]
     },
     "execution_count": 10,
     "metadata": {},
     "output_type": "execute_result"
    }
   ],
   "source": [
    "globals()"
   ]
  },
  {
   "cell_type": "code",
   "execution_count": 11,
   "id": "ddf2538c-20a5-4368-a8fa-22d3ede94f75",
   "metadata": {},
   "outputs": [
    {
     "data": {
      "text/plain": [
       "{'__name__': '__main__',\n",
       " '__doc__': 'Automatically created module for IPython interactive environment',\n",
       " '__package__': None,\n",
       " '__loader__': None,\n",
       " '__spec__': None,\n",
       " '__builtin__': <module 'builtins' (built-in)>,\n",
       " '__builtins__': <module 'builtins' (built-in)>,\n",
       " '_ih': ['',\n",
       "  \"#map\\ndef splicer(name):\\n    if len(name) % 2 == 0:\\n        return 'EVEN'\\n    else:\\n        return name[len(name)-1]\",\n",
       "  \"names = ['Mitul','Pranali','Prisha','Sally','Abby']\",\n",
       "  'list(map(splicer,names))',\n",
       "  '#filter\\ndef check_even(num):\\n    return num % 2 == 0',\n",
       "  'nums = [2,3,5,6,7,8,9]',\n",
       "  'list(filter(check_even,nums))',\n",
       "  'filter(lambda num:num%2==0,nums)',\n",
       "  'list(filter(lambda num:num%2==0,nums))',\n",
       "  '#return square of all nums\\nlist(map(lambda num:num**2,nums))',\n",
       "  'globals()',\n",
       "  'locals()'],\n",
       " '_oh': {1: '[]',\n",
       "  2: '[]',\n",
       "  3: ['l', 'i', 'EVEN', 'y', 'EVEN'],\n",
       "  4: '[{\"varName\": \"names\", \"varType\": \"list\", \"varSize\": \"104\", \"varShape\": \"5\", \"varContent\": \"[\\'Mitul\\', \\'Pranali\\', \\'Prisha\\', \\'Sally\\', \\'Abby\\']\", \"isMatrix\": true, \"isWidget\": false}]',\n",
       "  5: '[{\"varName\": \"names\", \"varType\": \"list\", \"varSize\": \"104\", \"varShape\": \"5\", \"varContent\": \"[\\'Mitul\\', \\'Pranali\\', \\'Prisha\\', \\'Sally\\', \\'Abby\\']\", \"isMatrix\": true, \"isWidget\": false}]',\n",
       "  6: [2, 6, 8],\n",
       "  7: <filter at 0x1784b35dfc0>,\n",
       "  8: [2, 6, 8],\n",
       "  9: [4, 9, 25, 36, 49, 64, 81],\n",
       "  10: {...},\n",
       "  11: '[{\"varName\": \"names\", \"varType\": \"list\", \"varSize\": \"104\", \"varShape\": \"5\", \"varContent\": \"[\\'Mitul\\', \\'Pranali\\', \\'Prisha\\', \\'Sally\\', \\'Abby\\']\", \"isMatrix\": true, \"isWidget\": false}, {\"varName\": \"nums\", \"varType\": \"list\", \"varSize\": \"120\", \"varShape\": \"7\", \"varContent\": \"[2, 3, 5, 6, 7, 8, 9]\", \"isMatrix\": true, \"isWidget\": false}]'},\n",
       " '_dh': [WindowsPath('E:/Workspaces/2024_Prep/Python/String,List,Dicts')],\n",
       " 'In': ['',\n",
       "  \"#map\\ndef splicer(name):\\n    if len(name) % 2 == 0:\\n        return 'EVEN'\\n    else:\\n        return name[len(name)-1]\",\n",
       "  \"names = ['Mitul','Pranali','Prisha','Sally','Abby']\",\n",
       "  'list(map(splicer,names))',\n",
       "  '#filter\\ndef check_even(num):\\n    return num % 2 == 0',\n",
       "  'nums = [2,3,5,6,7,8,9]',\n",
       "  'list(filter(check_even,nums))',\n",
       "  'filter(lambda num:num%2==0,nums)',\n",
       "  'list(filter(lambda num:num%2==0,nums))',\n",
       "  '#return square of all nums\\nlist(map(lambda num:num**2,nums))',\n",
       "  'globals()',\n",
       "  'locals()'],\n",
       " 'Out': {1: '[]',\n",
       "  2: '[]',\n",
       "  3: ['l', 'i', 'EVEN', 'y', 'EVEN'],\n",
       "  4: '[{\"varName\": \"names\", \"varType\": \"list\", \"varSize\": \"104\", \"varShape\": \"5\", \"varContent\": \"[\\'Mitul\\', \\'Pranali\\', \\'Prisha\\', \\'Sally\\', \\'Abby\\']\", \"isMatrix\": true, \"isWidget\": false}]',\n",
       "  5: '[{\"varName\": \"names\", \"varType\": \"list\", \"varSize\": \"104\", \"varShape\": \"5\", \"varContent\": \"[\\'Mitul\\', \\'Pranali\\', \\'Prisha\\', \\'Sally\\', \\'Abby\\']\", \"isMatrix\": true, \"isWidget\": false}]',\n",
       "  6: [2, 6, 8],\n",
       "  7: <filter at 0x1784b35dfc0>,\n",
       "  8: [2, 6, 8],\n",
       "  9: [4, 9, 25, 36, 49, 64, 81],\n",
       "  10: {...},\n",
       "  11: '[{\"varName\": \"names\", \"varType\": \"list\", \"varSize\": \"104\", \"varShape\": \"5\", \"varContent\": \"[\\'Mitul\\', \\'Pranali\\', \\'Prisha\\', \\'Sally\\', \\'Abby\\']\", \"isMatrix\": true, \"isWidget\": false}, {\"varName\": \"nums\", \"varType\": \"list\", \"varSize\": \"120\", \"varShape\": \"7\", \"varContent\": \"[2, 3, 5, 6, 7, 8, 9]\", \"isMatrix\": true, \"isWidget\": false}]'},\n",
       " 'get_ipython': <function IPython.core.getipython.get_ipython()>,\n",
       " 'exit': <IPython.core.autocall.ZMQExitAutocall at 0x17848088350>,\n",
       " 'quit': <IPython.core.autocall.ZMQExitAutocall at 0x17848088350>,\n",
       " 'open': <function _io.open(file, mode='r', buffering=-1, encoding=None, errors=None, newline=None, closefd=True, opener=None)>,\n",
       " '_': '[{\"varName\": \"names\", \"varType\": \"list\", \"varSize\": \"104\", \"varShape\": \"5\", \"varContent\": \"[\\'Mitul\\', \\'Pranali\\', \\'Prisha\\', \\'Sally\\', \\'Abby\\']\", \"isMatrix\": true, \"isWidget\": false}, {\"varName\": \"nums\", \"varType\": \"list\", \"varSize\": \"120\", \"varShape\": \"7\", \"varContent\": \"[2, 3, 5, 6, 7, 8, 9]\", \"isMatrix\": true, \"isWidget\": false}]',\n",
       " '__': {...},\n",
       " '___': '[{\"varName\": \"names\", \"varType\": \"list\", \"varSize\": \"104\", \"varShape\": \"5\", \"varContent\": \"[\\'Mitul\\', \\'Pranali\\', \\'Prisha\\', \\'Sally\\', \\'Abby\\']\", \"isMatrix\": true, \"isWidget\": false}, {\"varName\": \"nums\", \"varType\": \"list\", \"varSize\": \"120\", \"varShape\": \"7\", \"varContent\": \"[2, 3, 5, 6, 7, 8, 9]\", \"isMatrix\": true, \"isWidget\": false}]',\n",
       " '__session__': 'E:\\\\Workspaces\\\\2024_Prep\\\\Python\\\\String,List,Dicts\\\\Python_all_2025.ipynb',\n",
       " 'json': <module 'json' from 'E:\\\\Anaconda3_2024.10-1\\\\Lib\\\\json\\\\__init__.py'>,\n",
       " 'sys': <module 'sys' (built-in)>,\n",
       " '__import__': <function _frozen_importlib.__import__(name, globals=None, locals=None, fromlist=(), level=0)>,\n",
       " 'NamespaceMagics': IPython.core.magics.namespace.NamespaceMagics,\n",
       " '_jupyterlab_variableinspector_nms': <IPython.core.magics.namespace.NamespaceMagics at 0x17848529310>,\n",
       " '_jupyterlab_variableinspector_Jupyter': <ipykernel.zmqshell.ZMQInteractiveShell at 0x17848043b90>,\n",
       " '__np': <module 'numpy' from 'E:\\\\Anaconda3_2024.10-1\\\\Lib\\\\site-packages\\\\numpy\\\\__init__.py'>,\n",
       " '__pd': <module 'pandas' from 'E:\\\\Anaconda3_2024.10-1\\\\Lib\\\\site-packages\\\\pandas\\\\__init__.py'>,\n",
       " '__pyspark': None,\n",
       " '__tf': None,\n",
       " '__K': None,\n",
       " '__torch': None,\n",
       " '__ipywidgets': <module 'ipywidgets' from 'E:\\\\Anaconda3_2024.10-1\\\\Lib\\\\site-packages\\\\ipywidgets\\\\__init__.py'>,\n",
       " '__xr': <module 'xarray' from 'E:\\\\Anaconda3_2024.10-1\\\\Lib\\\\site-packages\\\\xarray\\\\__init__.py'>,\n",
       " '_attempt_import': <function __main__._attempt_import(module)>,\n",
       " '_check_imported': <function __main__._check_imported()>,\n",
       " '_jupyterlab_variableinspector_getsizeof': <function __main__._jupyterlab_variableinspector_getsizeof(x)>,\n",
       " '_jupyterlab_variableinspector_getshapeof': <function __main__._jupyterlab_variableinspector_getshapeof(x)>,\n",
       " '_jupyterlab_variableinspector_getcontentof': <function __main__._jupyterlab_variableinspector_getcontentof(x)>,\n",
       " '_jupyterlab_variableinspector_is_matrix': <function __main__._jupyterlab_variableinspector_is_matrix(x)>,\n",
       " '_jupyterlab_variableinspector_is_widget': <function __main__._jupyterlab_variableinspector_is_widget(x)>,\n",
       " '_jupyterlab_variableinspector_dict_list': <function __main__._jupyterlab_variableinspector_dict_list()>,\n",
       " '_jupyterlab_variableinspector_getmatrixcontent': <function __main__._jupyterlab_variableinspector_getmatrixcontent(x, max_rows=10000)>,\n",
       " '_jupyterlab_variableinspector_displaywidget': <function __main__._jupyterlab_variableinspector_displaywidget(widget)>,\n",
       " '_jupyterlab_variableinspector_default': <function __main__._jupyterlab_variableinspector_default(o)>,\n",
       " '_jupyterlab_variableinspector_deletevariable': <function __main__._jupyterlab_variableinspector_deletevariable(x)>,\n",
       " '_1': '[]',\n",
       " '_i': 'globals()',\n",
       " '_ii': '#return square of all nums\\nlist(map(lambda num:num**2,nums))',\n",
       " '_iii': 'list(filter(lambda num:num%2==0,nums))',\n",
       " '_i1': \"#map\\ndef splicer(name):\\n    if len(name) % 2 == 0:\\n        return 'EVEN'\\n    else:\\n        return name[len(name)-1]\",\n",
       " 'splicer': <function __main__.splicer(name)>,\n",
       " '_2': '[]',\n",
       " '_i2': \"names = ['Mitul','Pranali','Prisha','Sally','Abby']\",\n",
       " 'names': ['Mitul', 'Pranali', 'Prisha', 'Sally', 'Abby'],\n",
       " '_3': ['l', 'i', 'EVEN', 'y', 'EVEN'],\n",
       " '_i3': 'list(map(splicer,names))',\n",
       " '_4': '[{\"varName\": \"names\", \"varType\": \"list\", \"varSize\": \"104\", \"varShape\": \"5\", \"varContent\": \"[\\'Mitul\\', \\'Pranali\\', \\'Prisha\\', \\'Sally\\', \\'Abby\\']\", \"isMatrix\": true, \"isWidget\": false}]',\n",
       " '_i4': '#filter\\ndef check_even(num):\\n    return num % 2 == 0',\n",
       " 'check_even': <function __main__.check_even(num)>,\n",
       " '_5': '[{\"varName\": \"names\", \"varType\": \"list\", \"varSize\": \"104\", \"varShape\": \"5\", \"varContent\": \"[\\'Mitul\\', \\'Pranali\\', \\'Prisha\\', \\'Sally\\', \\'Abby\\']\", \"isMatrix\": true, \"isWidget\": false}]',\n",
       " '_i5': 'nums = [2,3,5,6,7,8,9]',\n",
       " 'nums': [2, 3, 5, 6, 7, 8, 9],\n",
       " '_6': [2, 6, 8],\n",
       " '_i6': 'list(filter(check_even,nums))',\n",
       " '_7': <filter at 0x1784b35dfc0>,\n",
       " '_i7': 'filter(lambda num:num%2==0,nums)',\n",
       " '_8': [2, 6, 8],\n",
       " '_i8': 'list(filter(lambda num:num%2==0,nums))',\n",
       " '_9': [4, 9, 25, 36, 49, 64, 81],\n",
       " '_i9': '#return square of all nums\\nlist(map(lambda num:num**2,nums))',\n",
       " '_10': {...},\n",
       " '_i10': 'globals()',\n",
       " '_11': '[{\"varName\": \"names\", \"varType\": \"list\", \"varSize\": \"104\", \"varShape\": \"5\", \"varContent\": \"[\\'Mitul\\', \\'Pranali\\', \\'Prisha\\', \\'Sally\\', \\'Abby\\']\", \"isMatrix\": true, \"isWidget\": false}, {\"varName\": \"nums\", \"varType\": \"list\", \"varSize\": \"120\", \"varShape\": \"7\", \"varContent\": \"[2, 3, 5, 6, 7, 8, 9]\", \"isMatrix\": true, \"isWidget\": false}]',\n",
       " '_i11': '\\nlocals()'}"
      ]
     },
     "execution_count": 11,
     "metadata": {},
     "output_type": "execute_result"
    }
   ],
   "source": [
    "\n",
    "locals()"
   ]
  },
  {
   "cell_type": "code",
   "execution_count": null,
   "id": "8c8212fa-7120-4421-9f5a-cd7c6c36c6b6",
   "metadata": {},
   "outputs": [],
   "source": []
  },
  {
   "cell_type": "code",
   "execution_count": 12,
   "id": "1ba00de0-8cc8-4bec-8c54-abc820ae9d9d",
   "metadata": {},
   "outputs": [
    {
     "data": {
      "text/plain": [
       "[2, 3, 5, 6, 7, 8, 9]"
      ]
     },
     "execution_count": 12,
     "metadata": {},
     "output_type": "execute_result"
    }
   ],
   "source": [
    "nums"
   ]
  },
  {
   "cell_type": "code",
   "execution_count": 14,
   "id": "6476808a-6711-4050-b7e2-a93b7168b8a0",
   "metadata": {},
   "outputs": [],
   "source": [
    "\n",
    "class SampleAdd():\n",
    "\n",
    "    def __init__(self,num1,num2):\n",
    "        self.num1 = num1\n",
    "        self.num2 = num2\n",
    "\n",
    "    def add(self):\n",
    "        return self.num1 + self.num2\n",
    "\n",
    "    def sub(self):\n",
    "        return self.num1 - self.num2"
   ]
  },
  {
   "cell_type": "code",
   "execution_count": 18,
   "id": "3b2c4afd-aea5-4b6e-ae19-603c07744b01",
   "metadata": {},
   "outputs": [
    {
     "data": {
      "text/plain": [
       "26"
      ]
     },
     "execution_count": 18,
     "metadata": {},
     "output_type": "execute_result"
    }
   ],
   "source": [
    "s_add = SampleAdd(num1=12,num2=14)\n",
    "s_add.add()"
   ]
  },
  {
   "cell_type": "code",
   "execution_count": 8,
   "id": "53e51e1e-7662-490d-abe3-a47ef2d21430",
   "metadata": {},
   "outputs": [
    {
     "data": {
      "text/plain": [
       "__main__.SampleAdd"
      ]
     },
     "execution_count": 8,
     "metadata": {},
     "output_type": "execute_result"
    }
   ],
   "source": [
    "type(s_add)"
   ]
  },
  {
   "cell_type": "code",
   "execution_count": 19,
   "id": "134c1637-dd5c-4472-b698-e0d8f568fc9b",
   "metadata": {},
   "outputs": [
    {
     "data": {
      "text/plain": [
       "-2"
      ]
     },
     "execution_count": 19,
     "metadata": {},
     "output_type": "execute_result"
    }
   ],
   "source": [
    "s_add.sub()"
   ]
  },
  {
   "cell_type": "code",
   "execution_count": 20,
   "id": "8cdc5604-b6a1-4690-9aef-dc70cda61461",
   "metadata": {},
   "outputs": [
    {
     "data": {
      "text/plain": [
       "<bound method SampleAdd.sub of <__main__.SampleAdd object at 0x000001D96B9029F0>>"
      ]
     },
     "execution_count": 20,
     "metadata": {},
     "output_type": "execute_result"
    }
   ],
   "source": [
    "s_add.sub"
   ]
  },
  {
   "cell_type": "code",
   "execution_count": null,
   "id": "2e5ffec9-59cb-4782-95b3-8711e6515309",
   "metadata": {},
   "outputs": [],
   "source": []
  },
  {
   "cell_type": "code",
   "execution_count": null,
   "id": "e7c000f2-ec21-4f9e-a444-4eb6260dcd13",
   "metadata": {},
   "outputs": [],
   "source": []
  },
  {
   "cell_type": "code",
   "execution_count": null,
   "id": "5db89de6-1014-4499-826d-30b169b32d0d",
   "metadata": {},
   "outputs": [],
   "source": []
  },
  {
   "cell_type": "code",
   "execution_count": null,
   "id": "3829f745-919e-414e-8272-1f72453039fc",
   "metadata": {},
   "outputs": [],
   "source": []
  },
  {
   "cell_type": "code",
   "execution_count": null,
   "id": "eb8583da-0417-4c7a-8ee9-39ab121e2a41",
   "metadata": {},
   "outputs": [],
   "source": []
  },
  {
   "cell_type": "code",
   "execution_count": null,
   "id": "564a5eec-6537-48a9-81ef-459313fc20c8",
   "metadata": {},
   "outputs": [],
   "source": []
  },
  {
   "cell_type": "code",
   "execution_count": null,
   "id": "72472cc5-b0c6-4a24-8a9c-61919d6fde5b",
   "metadata": {},
   "outputs": [],
   "source": []
  },
  {
   "cell_type": "code",
   "execution_count": null,
   "id": "49be12a7-a295-4c53-a3aa-6ceeab553264",
   "metadata": {},
   "outputs": [],
   "source": []
  },
  {
   "cell_type": "code",
   "execution_count": null,
   "id": "579efbff-49e7-497e-a020-4cfbb77906d0",
   "metadata": {},
   "outputs": [],
   "source": []
  },
  {
   "cell_type": "code",
   "execution_count": null,
   "id": "232861da-001f-4436-9535-4bb3b6e5c1e6",
   "metadata": {},
   "outputs": [],
   "source": []
  },
  {
   "cell_type": "code",
   "execution_count": null,
   "id": "5034df59-5c20-4e3c-947d-bd7e7fe479a1",
   "metadata": {},
   "outputs": [],
   "source": []
  },
  {
   "cell_type": "code",
   "execution_count": null,
   "id": "929ceb10-ae69-4c09-83df-54a725f4f972",
   "metadata": {},
   "outputs": [],
   "source": []
  },
  {
   "cell_type": "code",
   "execution_count": null,
   "id": "cf00c221-851f-473c-af59-56d9a8772f16",
   "metadata": {},
   "outputs": [],
   "source": []
  },
  {
   "cell_type": "code",
   "execution_count": null,
   "id": "90f00b20-cb3c-4bae-9b69-41ec8e60c248",
   "metadata": {},
   "outputs": [],
   "source": []
  },
  {
   "cell_type": "code",
   "execution_count": null,
   "id": "6610da85-98a8-4737-9c91-85fed33e78c4",
   "metadata": {},
   "outputs": [],
   "source": []
  },
  {
   "cell_type": "code",
   "execution_count": null,
   "id": "e0b03d06-d57a-487f-9459-c96a542d2bd9",
   "metadata": {},
   "outputs": [],
   "source": []
  },
  {
   "cell_type": "code",
   "execution_count": null,
   "id": "407c6ecd-17e5-4596-b29a-c7c5d38ca41e",
   "metadata": {},
   "outputs": [],
   "source": []
  },
  {
   "cell_type": "code",
   "execution_count": null,
   "id": "78b854b4-100a-418a-b2e1-d09a07b02467",
   "metadata": {},
   "outputs": [],
   "source": []
  },
  {
   "cell_type": "code",
   "execution_count": null,
   "id": "0bb8575b-c75a-4f37-9b16-0bed184878a6",
   "metadata": {},
   "outputs": [],
   "source": []
  },
  {
   "cell_type": "code",
   "execution_count": null,
   "id": "7db2e046-9bbb-404f-97d5-839f610bdec9",
   "metadata": {},
   "outputs": [],
   "source": []
  }
 ],
 "metadata": {
  "kernelspec": {
   "display_name": "Python 3 (ipykernel)",
   "language": "python",
   "name": "python3"
  },
  "language_info": {
   "codemirror_mode": {
    "name": "ipython",
    "version": 3
   },
   "file_extension": ".py",
   "mimetype": "text/x-python",
   "name": "python",
   "nbconvert_exporter": "python",
   "pygments_lexer": "ipython3",
   "version": "3.12.7"
  }
 },
 "nbformat": 4,
 "nbformat_minor": 5
}
