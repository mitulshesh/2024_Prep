





import math
def vol(rad):
    return (4/3)*math.pi*rad**3





# Check
vol(2)








def ran_check(num,low,high):
    return num in range(low,high+1)


# Check
ran_check(8,2,7)








def ran_bool(num,low,high):
    pass


ran_bool(3,1,10)





def up_low(s):
    upc_count = 0
    lwrc_count = 0
    for letter in s:
        if letter.isupper():
            upc_count+=1
        else:
            lwrc_count+=1
    return (upc_count,lwrc_count)


up_low("Hello Mr. Rogers, how are you this fine Tuesday?")


type(up_low("Hello Mr. Rogers, how are you this fine Tuesday?"))











s = 'Hello Mr. Rogers, how are you this fine Tuesday?'
up_low(s)





def unique_list(lst):
    pass


unique_list([1,1,1,1,2,2,3,3,3,3,4,5])





def multiply(numbers):  
    pass


multiply([1,2,3,-4])





def palindrome(s):
    pass


palindrome('helleh')





import string

def ispangram(str1, alphabet=string.ascii_lowercase):
    pass


ispangram("The quick brown fox jumps over the lazy dog")


string.ascii_lowercase



