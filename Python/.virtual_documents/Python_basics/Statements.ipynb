shape="rectangle"

if(shape == "square"):
    print("this is a sqaure")
elif(shape == "rectangle"):
    print("this is a rectangle")
else:
    print("I donot know what shape it is")


l1=[1,2,3,4,5,6,7,8]


type(l1)


for num in l1:
    print(num)


for num in l1:
    if num % 2 == 0:
        print(num)
    else:
        print(f'odd number : {num}')


l2 = [(1,2,3),(4,5,6),(7,8,9)]

for item in l2:
    print(item)


for a,b,c in l2:
    print(b)



d1 = {'k1':6,'k2':5,'k3':100,'k4':150,'k5':90,'k6':14}
l5=[]
for key,value in d1.items():
    print(value)
    l5.append(value)
    


l5


sorted(d1.values())


reverse(l5)








l5


l5.reverse()


l5


100 in [1,2,3]



