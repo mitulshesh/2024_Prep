#STEP 1 : Display board
from IPython.display import clear_output
def displayBoard(board):
    clear_output()
    print(board[7]+"|"+board[8]+"|"+board[9])
    print("-|-|-")
    print(board[4]+"|"+board[5]+"|"+board[6])
    print("-|-|-")
    print(board[1]+"|"+board[2]+"|"+board[3])
    print("-|-|-")


#Test Display Board
#Below is sample display board
testBoardList = ['#','X','O','X','O','X','O','X','X','X']
#displayBoard(testBoardList)
displayBoard([' ']*10)


#Step 2 : Player input X or O
def playerInput():
    player1_marker = ''
    while player1_marker!='X' and player1_marker!='O':
        player1_marker = input("Please select between X or O")
    if(player1_marker == 'X'):
        player2_marker = 'O'
    else:
        player2_marker = 'X'
    return (player1_marker,player2_marker)
    


#Step 3 : place marker
def placeMarker(board,position,marker):
    board[position] = marker


#Test placemarker
placeMarker(testBoardList,8,'X')
displayBoard(testBoardList)


#Step 4: win check
def winCheck(board,marker):
    return((board[7] == marker and board[8] == marker and board[9] == marker) or
       (board[4] == marker and board[5] == marker and board[6] == marker) or
       (board[1] == marker and board[2] == marker and board[3] == marker) or
       (board[7] == marker and board[4] == marker and board[1] == marker) or
       (board[8] == marker and board[5] == marker and board[2] == marker) or
       (board[9] == marker and board[6] == marker and board[3] == marker) or
       (board[7] == marker and board[5] == marker and board[3] == marker) or
       (board[1] == marker and board[5] == marker and board[9] == marker))


winCheck(testBoardList,'X')


#check space is empty
def checkSpace(board,position):
    if(board[position] == ' '):
        return True
    else:
        return False


#check for board full
def checkBoardFull(board):
    for i in range(1,10):
        if(board[i] == ' '):
            return False
    return True


#choose randomly who starts the game:
import random
def chooseFirstPlayer(player1,player2,playerMarkerDict):
    flip = random.randint(0,1)
    playerMarkerDict = {}
    if(flip == 0):
        player1Marker=''
        while(player1Marker!='X' and player1Marker!='O'):
            player1Marker = input(player1+ " Please select your preferred marker X or O")
        playerMarkerDict[player1] = player1Marker
        if(playerMarkerDict[player1] == 'X'):
          playerMarkerDict[player2] = 'O'
        else:
          playerMarkerDict[player2] = 'X'
        return player1,playerMarkerDict
    else:
        player2Marker=''
        while(player2Marker!='X' and player2Marker!='O'):
            player2Marker = input(player2+ " Please select your preferred marker X or O")
        playerMarkerDict[player2] = player2Marker
        if(playerMarkerDict[player2] == 'X'):
           playerMarkerDict[player1] = 'O'
        else:
            playerMarkerDict[player1] = 'X'
        return player2,playerMarkerDict


#place user input
def placeUserInput(board,position):
    usrInput = ''
    while(usrInput not in range(1,9) or not checkSpace(board,position)):
        position = int(input("please enter a position between 1-9"))
    return position


#choose to replay or not
def replay():
    doReplay = input("Do you want to replay ---- Enter Yes or No")
    return doReplay == 'Yes'


#Now its time for the Biggie

#Display board
def startGame(player1,player2,playerMarkerDict):
    board = [' ']*10
    displayBoard(board)
    
    #Choose who will play first
    currentPlayer,playerMarkerDict = chooseFirstPlayer(player1,player2,playerMarkerDict)
    print("Marker Allocation is ",playerMarkerDict)
    endMatch = False
    while(checkBoardFull(board) == False):
        print(currentPlayer,"Chance now...")
        position = int(input("Please enter your position"))
        while(checkSpace(board,position) == False):
          position = int(input("Please position within range 1-9 that is free"))  
        placeMarker(board,position,playerMarkerDict.get(currentPlayer))
        displayBoard(board)
        #Check if someone has won
        if(winCheck(board,playerMarkerDict.get(currentPlayer))):
            print(currentPlayer,'wins')
            endMatch = True
            break
        if(currentPlayer == player1):
            currentPlayer = player2
        else:
            currentPlayer = player1

    if(endMatch == False):
      print("Match is tied")    
    
    


p1 = input("Player 1 name")
p2 = input("Player 2 name")
startGame(p1,p2,{})






