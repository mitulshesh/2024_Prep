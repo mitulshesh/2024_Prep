str="mitul"


str


len(str)


list1 = ['mitul','pranali','prisha']


list1


list1[0]


list1.reverse()


list1



str[0]


str[0] = 'k'


str


str[-1]


str[-10]


dict1 = {'key1':'value1' , 'key2':'value1'}


dict1


dict1['key2']


len(list1)


list1.append('suvarna')


list1


str11 = list1[0]


str11[::-1]


str11.upper()


tup = (4,5,6)


tup.index(6)


x


x = {}


type(x)


setmitul = set()


type(setmitul)


setmitul.add(1)


setmitul.add('1')


setmitul





tuple111 =(1,)





tuple111


myfile = open('testfile.txt')


with open(








pwd


dict_prisha = {'likes1':'gugubai','likes2':'bhokadi'}


for a,b in dict_prisha.items():
    print(b)


word = "PRISHA"

for item in enumerate(word):
    print(item)
    


list1 = ('a','b','c','d')
list2 = (1,2,3,4,5)


zip(list1,list2)


for item in zip(list1,list2):
    print(item)


mylist = list(zip(list1,list2))


mylist


from random import shuffle,randint
list1 = [10,20,30,40,50]
shuffle(list1)
randint(0,10)









list1


#celsius to farhenhiet conversion
celcius = [36.2 , 140, 50, 65]
fah = [((9*c/5)+32) for c in celcius]





fah


list1 = [ '123','456']


help(list1.remove)


#function to return employee_of_the_month
def find_employee_of_the_month(emp):
    current_max = 0
    employee_of_the_month = ''
    for emp,hrs in emp:
        if hrs > current_max:
            current_max = hrs
            employee_of_the_month = emp
        else:
            pass

    return (employee_of_the_month,current_max)


emp_tuple = [('Abby',100),('Cassie',50),('mitul',1000)]


find_employee_of_the_month(emp_tuple)





name,hrs,location = find_employee_of_the_month(emp_tuple)





name


hrs


#args and kwargs
def myfunc(*args):
    print(args)
    print(sum(args)*0.5)


myfunc(10,20,30,40,50)


def myfunc1(**kwargs):
    print(kwargs)
    if 'Fruit' in kwargs:
        print('my favourite Fruit is {}'.format(kwargs['Fruit']))
    else:
        pass
        





myfunc1(color='orange',Fruit='Banana')


#map
def splicer(name):
    if len(name) % 2 == 0:
        return 'EVEN'
    else:
        return name[len(name)-1]


names = ['Mitul','Pranali','Prisha','Sally','Abby']


list(map(splicer,names))


#filter
def check_even(num):
    return num % 2 == 0


nums = [2,3,5,6,7,8,9]


list(filter(check_even,nums))


list(filter(lambda num:num%2==0,nums))


#return square of all nums
list(map(lambda num:num**2,nums))


globals()



locals()





nums











































































