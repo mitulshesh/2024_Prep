#Global vars
suits = ('Hearts', 'Diamonds', 'Spades', 'Clubs')
ranks = ('Two', 'Three', 'Four', 'Five', 'Six', 'Seven', 'Eight', 'Nine', 'Ten', 'Jack', 'Queen', 'King', 'Ace')
values = {'Two':2, 'Three':3, 'Four':4, 'Five':5, 'Six':6, 'Seven':7, 'Eight':8, 
            'Nine':9, 'Ten':10, 'Jack':11, 'Queen':12, 'King':13, 'Ace':14}


#CARD Class
#Attributes Suit,Rank and value(derived)
class Card:

    def __init__(self,suit,rank):
        self.suit = suit
        self.rank = rank
        self.value = values[rank]

    def __str__(self):
        return self.rank+" of "+ self.suit
    


#Test card class
seven_hearts = Card("Hearts","Two")
seven_hearts
print(seven_hearts)


#DECK class
import random
class Deck:

    def __init__(self):
        #Initialize with empty list
        self.allCards = []
        for suit in suits:
            for rank in ranks:
                createdCard = Card(suit,rank)
                self.allCards.append(createdCard)
    
    def shuffleCards(self):
        random.shuffle(self.allCards)
        
    def dealOne(self):
        return self.allCards.pop()


#Test deck class
newDeck = Deck()
newDeck.shuffleCards()
#for card in newDeck.allCards:
    #print(card)
print("\n Now taking one card....\n")
myPoppedCard = newDeck.dealOne()
print(myPoppedCard)


#Player class
class Player:

    def __init__(self,name):
        self.name = name
        self.all_cards = []

    def remove_one(self):
        return self.all_cards.pop(0)

    def add_cards(self,new_cards):
        if(type(new_cards) == type([])):
            #Multiple cards to be added
            self.all_cards.extend(new_cards)
        else:
            #Single card to be added
            self.all_cards.append(new_cards)
            
    def __str__(self):
        return "Player "+self.name+" has total of "+ str(len(self.all_cards))+" cards"


#Test Player class
player = Player("mitul")
player.add_cards(myPoppedCard)
print(player)


#GAME setup
#Create two players
player_one = Player("One")
player_two = Player("Two")

#Create a new Deck
my_deck = Deck()
#Shuffle all the cards
my_deck.shuffleCards()

#Distribute the cards

for x in range(26):
    player_one.add_cards(my_deck.dealOne())
    player_two.add_cards(my_deck.dealOne())


print(len(player_one.all_cards))


game_on=True


round_num = 0
while game_on:
    round_num += 1
    print("Round ",round_num)
    if (len(player_one.all_cards) == 0):
        game_on = False
        print("Player 1 is out of cards...Player 2 wins")
        break

    if (len(player_two.all_cards) == 0):
        game_on = False
        print("Player 2 is out of cards...Player 1 wins")
        break

    # start rounds
    player_one_cards = []
    player_one_cards.append(player_one.remove_one())

    player_two_cards = []
    player_two_cards.append(player_two.remove_one())

    at_war = True

    while at_war:
        if player_one_cards[-1].value > player_two_cards[-1].value:
            player_one.add_cards(player_one_cards)
            player_one.add_cards(player_two_cards)
            at_war = False
        elif player_one_cards[-1].value < player_two_cards[-1].value:
            player_two.add_cards(player_one_cards)
            player_two.add_cards(player_two_cards)
            at_war = False
        else:
            print("WAR!!")
            if len(player_one.all_cards) < 5:
                print("Player 1 doesnot have enough cards to declare war!!.... Player 2 WINS!!")
                game_on = False
                break
            elif (len(player_two.all_cards)) < 5:
                print("Player 2 doesnot have enough cards to declare war!!.... Player 1 WINS!!")
                game_on = False
                break
            else:
                for x in range(5):
                    player_one_cards.append(player_one.remove_one())
                    player_two_cards.append(player_two.remove_one())
   
    
