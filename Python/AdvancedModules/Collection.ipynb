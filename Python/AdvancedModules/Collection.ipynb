{
 "cells": [
  {
   "cell_type": "code",
   "execution_count": 1,
   "id": "311f227f-d31b-4c4e-baf8-6b2ff9b80fd6",
   "metadata": {},
   "outputs": [],
   "source": [
    "from collections import Counter\n",
    "list = [1,2,3,4,4,5,1,3,6]"
   ]
  },
  {
   "cell_type": "code",
   "execution_count": 2,
   "id": "43ed9102-875a-41c3-a668-01f978434c5e",
   "metadata": {},
   "outputs": [
    {
     "data": {
      "text/plain": [
       "Counter({1: 2, 3: 2, 4: 2, 2: 1, 5: 1, 6: 1})"
      ]
     },
     "execution_count": 2,
     "metadata": {},
     "output_type": "execute_result"
    }
   ],
   "source": [
    "Counter(list)"
   ]
  },
  {
   "cell_type": "code",
   "execution_count": 3,
   "id": "ceffdd5d-aec0-4729-9293-8845c0e8f1cf",
   "metadata": {},
   "outputs": [
    {
     "data": {
      "text/plain": [
       "Counter({'a': 7,\n",
       "         'd': 6,\n",
       "         'h': 5,\n",
       "         'k': 4,\n",
       "         's': 4,\n",
       "         'j': 4,\n",
       "         'm': 1,\n",
       "         'b': 1,\n",
       "         'l': 1})"
      ]
     },
     "execution_count": 3,
     "metadata": {},
     "output_type": "execute_result"
    }
   ],
   "source": [
    "Counter('hakshajdadjhkajsdmjbsadkahdkhdlas')"
   ]
  },
  {
   "cell_type": "code",
   "execution_count": 4,
   "id": "cf202361-4c7b-4f1f-944d-fe180167cc60",
   "metadata": {},
   "outputs": [],
   "source": [
    "s = 'Fox is very angry today.. as today her mother was angry on her'"
   ]
  },
  {
   "cell_type": "code",
   "execution_count": 5,
   "id": "a1e9e944-f439-458e-9127-25f762f5368a",
   "metadata": {},
   "outputs": [
    {
     "data": {
      "text/plain": [
       "Counter({' ': 12,\n",
       "         'r': 6,\n",
       "         'a': 6,\n",
       "         'o': 5,\n",
       "         'y': 5,\n",
       "         'e': 4,\n",
       "         's': 3,\n",
       "         'n': 3,\n",
       "         't': 3,\n",
       "         'h': 3,\n",
       "         'g': 2,\n",
       "         'd': 2,\n",
       "         '.': 2,\n",
       "         'F': 1,\n",
       "         'x': 1,\n",
       "         'i': 1,\n",
       "         'v': 1,\n",
       "         'm': 1,\n",
       "         'w': 1})"
      ]
     },
     "execution_count": 5,
     "metadata": {},
     "output_type": "execute_result"
    }
   ],
   "source": [
    "Counter(s)"
   ]
  },
  {
   "cell_type": "code",
   "execution_count": 6,
   "id": "7dfaea25-472e-4f4c-99b9-678505780d2d",
   "metadata": {},
   "outputs": [],
   "source": [
    "spt_list = s.split()"
   ]
  },
  {
   "cell_type": "code",
   "execution_count": 7,
   "id": "96b5c1f2-0483-4873-93d3-96dbb1409f24",
   "metadata": {},
   "outputs": [
    {
     "data": {
      "text/plain": [
       "['Fox',\n",
       " 'is',\n",
       " 'very',\n",
       " 'angry',\n",
       " 'today..',\n",
       " 'as',\n",
       " 'today',\n",
       " 'her',\n",
       " 'mother',\n",
       " 'was',\n",
       " 'angry',\n",
       " 'on',\n",
       " 'her']"
      ]
     },
     "execution_count": 7,
     "metadata": {},
     "output_type": "execute_result"
    }
   ],
   "source": [
    "spt_list"
   ]
  },
  {
   "cell_type": "code",
   "execution_count": 8,
   "id": "a4748f34-b06a-436a-b891-f99265851047",
   "metadata": {},
   "outputs": [
    {
     "data": {
      "text/plain": [
       "Counter({'angry': 2,\n",
       "         'her': 2,\n",
       "         'Fox': 1,\n",
       "         'is': 1,\n",
       "         'very': 1,\n",
       "         'today..': 1,\n",
       "         'as': 1,\n",
       "         'today': 1,\n",
       "         'mother': 1,\n",
       "         'was': 1,\n",
       "         'on': 1})"
      ]
     },
     "execution_count": 8,
     "metadata": {},
     "output_type": "execute_result"
    }
   ],
   "source": [
    "Counter(spt_list)"
   ]
  },
  {
   "cell_type": "code",
   "execution_count": 14,
   "id": "73b6d92e-513b-44d8-ad91-2b4fa4ef06d8",
   "metadata": {},
   "outputs": [
    {
     "name": "stdout",
     "output_type": "stream",
     "text": [
      "10\n"
     ]
    }
   ],
   "source": [
    "#Normal Dictionary\n",
    "d1 = {'a':10,'b':20}\n",
    "print(d1['a'])\n",
    "#print(d1['c']) # this will give an errror"
   ]
  },
  {
   "cell_type": "code",
   "execution_count": 20,
   "id": "51a06560-3a92-4a4b-bbba-e653c328f03b",
   "metadata": {},
   "outputs": [
    {
     "name": "stdout",
     "output_type": "stream",
     "text": [
      "100\n"
     ]
    },
    {
     "ename": "KeyError",
     "evalue": "'b'",
     "output_type": "error",
     "traceback": [
      "\u001b[1;31m---------------------------------------------------------------------------\u001b[0m",
      "\u001b[1;31mKeyError\u001b[0m                                  Traceback (most recent call last)",
      "Cell \u001b[1;32mIn[20], line 6\u001b[0m\n\u001b[0;32m      4\u001b[0m d2 \u001b[38;5;241m=\u001b[39m {\u001b[38;5;124m'\u001b[39m\u001b[38;5;124mc\u001b[39m\u001b[38;5;124m'\u001b[39m:\u001b[38;5;241m100\u001b[39m,\u001b[38;5;124m'\u001b[39m\u001b[38;5;124md\u001b[39m\u001b[38;5;124m'\u001b[39m:\u001b[38;5;241m200\u001b[39m}\n\u001b[0;32m      5\u001b[0m \u001b[38;5;28mprint\u001b[39m(d2[\u001b[38;5;124m'\u001b[39m\u001b[38;5;124mc\u001b[39m\u001b[38;5;124m'\u001b[39m])\n\u001b[1;32m----> 6\u001b[0m \u001b[38;5;28mprint\u001b[39m(d2[\u001b[38;5;124m'\u001b[39m\u001b[38;5;124mb\u001b[39m\u001b[38;5;124m'\u001b[39m])\n",
      "\u001b[1;31mKeyError\u001b[0m: 'b'"
     ]
    }
   ],
   "source": [
    "from collections import defaultdict\n",
    "#default dictionary\n",
    "d2= defaultdict(lambda:0)\n",
    "d2 = {'c':100,'d':200}\n",
    "print(d2['c'])\n",
    "print(d2['b'])"
   ]
  },
  {
   "cell_type": "code",
   "execution_count": null,
   "id": "b87a2c0a-93a8-4f93-b880-b0dceee8ed7f",
   "metadata": {},
   "outputs": [],
   "source": []
  }
 ],
 "metadata": {
  "kernelspec": {
   "display_name": "Python 3 (ipykernel)",
   "language": "python",
   "name": "python3"
  },
  "language_info": {
   "codemirror_mode": {
    "name": "ipython",
    "version": 3
   },
   "file_extension": ".py",
   "mimetype": "text/x-python",
   "name": "python",
   "nbconvert_exporter": "python",
   "pygments_lexer": "ipython3",
   "version": "3.12.4"
  }
 },
 "nbformat": 4,
 "nbformat_minor": 5
}
